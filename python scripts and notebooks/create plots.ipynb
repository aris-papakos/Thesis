{
 "cells": [
  {
   "cell_type": "code",
   "execution_count": 1,
   "metadata": {},
   "outputs": [],
   "source": [
    "%matplotlib inline\n",
    "import seaborn as sns\n",
    "import pandas as pd"
   ]
  },
  {
   "cell_type": "code",
   "execution_count": 1,
   "metadata": {},
   "outputs": [],
   "source": [
    "# accuracy = {'LDA Topics':[20,30,50,100],\n",
    "#             'Mult. Naive Bayes':[0.59,0.587,0.587,0.578],\n",
    "#             'Linear SVM':[0.714,0.733,0.7404,0.76752],\n",
    "#             'Mult. Logistic Regression':[0.727,0.742,0.751,0.7607],\n",
    "#             'Decision Trees':[0.679, 0.7196, 0.6172, 0.6292],\n",
    "#             'Random Forest':[0.71, 0.7288, 0.7071, 0.7191]    \n",
    "# }"
   ]
  },
  {
   "cell_type": "code",
   "execution_count": 2,
   "metadata": {},
   "outputs": [],
   "source": [
    "accuracy = {'One vs Rest Linear SVM': [0.7308, 0.7356,0.7366, 0.7496, 0.7472], \n",
    "       'Decision Tree': [0.7564, 0.7709, 0.7738, 0.7405, 0.7318], \n",
    "       'Mult. Naive Bayes': [0.5926, 0.5959, 0.5897, 0.5892, 0.5834],\n",
    "       'LDA Topics': [20, 30, 50, 70, 100], \n",
    "       'Mult. Logistic Regression': [0.7728, 0.7743, 0.8004, 0.7869, 0.7960],\n",
    "       'Random Forest': [0.7869, 0.8023, 0.798, 0.7965, 0.7989]}"
   ]
  },
  {
   "cell_type": "code",
   "execution_count": 3,
   "metadata": {},
   "outputs": [
    {
     "data": {
      "text/html": [
       "<div>\n",
       "<style scoped>\n",
       "    .dataframe tbody tr th:only-of-type {\n",
       "        vertical-align: middle;\n",
       "    }\n",
       "\n",
       "    .dataframe tbody tr th {\n",
       "        vertical-align: top;\n",
       "    }\n",
       "\n",
       "    .dataframe thead th {\n",
       "        text-align: right;\n",
       "    }\n",
       "</style>\n",
       "<table border=\"1\" class=\"dataframe\">\n",
       "  <thead>\n",
       "    <tr style=\"text-align: right;\">\n",
       "      <th></th>\n",
       "      <th>Decision Tree</th>\n",
       "      <th>LDA Topics</th>\n",
       "      <th>Mult. Logistic Regression</th>\n",
       "      <th>Mult. Naive Bayes</th>\n",
       "      <th>One vs Rest Linear SVM</th>\n",
       "      <th>Random Forest</th>\n",
       "    </tr>\n",
       "  </thead>\n",
       "  <tbody>\n",
       "    <tr>\n",
       "      <th>0</th>\n",
       "      <td>0.7564</td>\n",
       "      <td>20</td>\n",
       "      <td>0.7728</td>\n",
       "      <td>0.5926</td>\n",
       "      <td>0.7308</td>\n",
       "      <td>0.7869</td>\n",
       "    </tr>\n",
       "    <tr>\n",
       "      <th>1</th>\n",
       "      <td>0.7709</td>\n",
       "      <td>30</td>\n",
       "      <td>0.7743</td>\n",
       "      <td>0.5959</td>\n",
       "      <td>0.7356</td>\n",
       "      <td>0.8023</td>\n",
       "    </tr>\n",
       "    <tr>\n",
       "      <th>2</th>\n",
       "      <td>0.7738</td>\n",
       "      <td>50</td>\n",
       "      <td>0.8004</td>\n",
       "      <td>0.5897</td>\n",
       "      <td>0.7366</td>\n",
       "      <td>0.7980</td>\n",
       "    </tr>\n",
       "    <tr>\n",
       "      <th>3</th>\n",
       "      <td>0.7405</td>\n",
       "      <td>70</td>\n",
       "      <td>0.7869</td>\n",
       "      <td>0.5892</td>\n",
       "      <td>0.7496</td>\n",
       "      <td>0.7965</td>\n",
       "    </tr>\n",
       "    <tr>\n",
       "      <th>4</th>\n",
       "      <td>0.7318</td>\n",
       "      <td>100</td>\n",
       "      <td>0.7960</td>\n",
       "      <td>0.5834</td>\n",
       "      <td>0.7472</td>\n",
       "      <td>0.7989</td>\n",
       "    </tr>\n",
       "  </tbody>\n",
       "</table>\n",
       "</div>"
      ],
      "text/plain": [
       "   Decision Tree  LDA Topics  Mult. Logistic Regression  Mult. Naive Bayes  \\\n",
       "0         0.7564          20                     0.7728             0.5926   \n",
       "1         0.7709          30                     0.7743             0.5959   \n",
       "2         0.7738          50                     0.8004             0.5897   \n",
       "3         0.7405          70                     0.7869             0.5892   \n",
       "4         0.7318         100                     0.7960             0.5834   \n",
       "\n",
       "   One vs Rest Linear SVM  Random Forest  \n",
       "0                  0.7308         0.7869  \n",
       "1                  0.7356         0.8023  \n",
       "2                  0.7366         0.7980  \n",
       "3                  0.7496         0.7965  \n",
       "4                  0.7472         0.7989  "
      ]
     },
     "execution_count": 3,
     "metadata": {},
     "output_type": "execute_result"
    }
   ],
   "source": [
    "\n",
    "\n",
    "df = pd.DataFrame(accuracy)[[]]\n",
    "df.head()"
   ]
  },
  {
   "cell_type": "code",
   "execution_count": 4,
   "metadata": {},
   "outputs": [],
   "source": [
    "def plot_dataframes(df):\n",
    "    '''\n",
    "    Nicely Plot Dataframes\n",
    "    '''\n",
    "    ax = df.plot(figsize=(10,6), grid=True,style='.-',fontsize =12)\n",
    "    ax.set_ylabel(\"Accuracy\",fontsize=14)\n",
    "    ax.set_xlabel(\"LDA Topics\",fontsize=14)\n",
    "    \n",
    "    return ax\n",
    "    "
   ]
  },
  {
   "cell_type": "code",
   "execution_count": 6,
   "metadata": {},
   "outputs": [
    {
     "data": {
      "image/png": "[encoded data removed]",
      "text/plain": [
       "<Figure size 720x432 with 1 Axes>"
      ]
     },
     "metadata": {},
     "output_type": "display_data"
    }
   ],
   "source": [
    "ax = plot_dataframes(df.set_index('LDA Topics'))\n",
    "ax.figure.savefig('lda_topics.png')"
   ]
  },
  {
   "cell_type": "code",
   "execution_count": 38,
   "metadata": {},
   "outputs": [],
   "source": [
    "# # import matplotlib.pyplot as plt\n",
    "\n",
    "# # plt.title(\"Action rating vs Comedy rating - by year\", loc='center')\n",
    "# ax = df.set_index('LDA Topics').plot(figsize=(10,6), grid=True,style='.-',fontsize =12)\n",
    "# ax.set_ylabel(\"Accuracy\",fontsize=14)\n",
    "# ax.set_xlabel(\"LDA Topics\",fontsize=14)"
   ]
  },
  {
   "cell_type": "code",
   "execution_count": null,
   "metadata": {},
   "outputs": [],
   "source": [
    "accuracy = {'LDA Topics':[20,30,50,100],\n",
    "            'Naive Bayes':[],\n",
    "            'Linear SVM':[],\n",
    "            'Logistic Regression':[],\n",
    "            'Decision Trees':[],\n",
    "            'Random Forest':[]    \n",
    "}"
   ]
  },
  {
   "cell_type": "code",
   "execution_count": 70,
   "metadata": {},
   "outputs": [
    {
     "data": {
      "text/plain": [
       "'2'"
      ]
     },
     "execution_count": 70,
     "metadata": {},
     "output_type": "execute_result"
    }
   ],
   "source": [
    "import operator\n",
    "\n",
    "d = {'1':2,\n",
    "     '2':2,\n",
    "     '3':1,\n",
    "     '4':0   \n",
    "}\n",
    "\n",
    "\n",
    "max(d.items(), key=operator.itemgetter(1))[0]"
   ]
  },
  {
   "cell_type": "code",
   "execution_count": 54,
   "metadata": {},
   "outputs": [],
   "source": [
    "l = [1,2,3,2,2,2,2,1,1,1,1,3,3]"
   ]
  },
  {
   "cell_type": "code",
   "execution_count": 55,
   "metadata": {},
   "outputs": [],
   "source": [
    "import random \n",
    "\n",
    "def majority_vote(votes):\n",
    "    '''\n",
    "    Predict the majority vote by\n",
    "    returning randomly a class when we have more\n",
    "    than one winner.\n",
    "    '''\n",
    "    vote_counts = {}\n",
    "    \n",
    "    for vote in votes:\n",
    "        if vote in vote_counts:\n",
    "            vote_counts[vote] += 1\n",
    "        else:\n",
    "            vote_counts[vote] = 1\n",
    "    winners = []\n",
    "    max_count = max(vote_counts.values())\n",
    "    \n",
    "    for vote, count in vote_counts.items():\n",
    "        if count == max_count:\n",
    "            winners.append(vote)\n",
    "    return random.choice(winners)"
   ]
  },
  {
   "cell_type": "code",
   "execution_count": 63,
   "metadata": {},
   "outputs": [
    {
     "data": {
      "text/plain": [
       "2"
      ]
     },
     "execution_count": 63,
     "metadata": {},
     "output_type": "execute_result"
    }
   ],
   "source": [
    "majority_vote(l)"
   ]
  },
  {
   "cell_type": "code",
   "execution_count": 27,
   "metadata": {},
   "outputs": [],
   "source": [
    "dumy_data = {'Percentages':[[0.77,0.6,0.95],\n",
    "                            [0.2,0.7,0.3],\n",
    "                            [0.5,0.6,0.45],\n",
    "                            [0.2, 0.4, 0.9],\n",
    "                            [0.1, 0.5, 0.8],\n",
    "                            [0.4,0.6,0.4],\n",
    "                            [0.1, 0.7,0.3],\n",
    "                            [0.8,0.3,0.6],\n",
    "                            [0.2, 0.9, 0.4],\n",
    "                            [0.3,0.7,0.9]\n",
    "                           ],\n",
    "             'class':[2,1,1,2,2,1,1,0,1,2]\n",
    "  \n",
    "}"
   ]
  },
  {
   "cell_type": "code",
   "execution_count": 28,
   "metadata": {},
   "outputs": [
    {
     "data": {
      "text/html": [
       "<div>\n",
       "<style scoped>\n",
       "    .dataframe tbody tr th:only-of-type {\n",
       "        vertical-align: middle;\n",
       "    }\n",
       "\n",
       "    .dataframe tbody tr th {\n",
       "        vertical-align: top;\n",
       "    }\n",
       "\n",
       "    .dataframe thead th {\n",
       "        text-align: right;\n",
       "    }\n",
       "</style>\n",
       "<table border=\"1\" class=\"dataframe\">\n",
       "  <thead>\n",
       "    <tr style=\"text-align: right;\">\n",
       "      <th></th>\n",
       "      <th>Percentages</th>\n",
       "      <th>class</th>\n",
       "    </tr>\n",
       "  </thead>\n",
       "  <tbody>\n",
       "    <tr>\n",
       "      <th>0</th>\n",
       "      <td>[0.77, 0.6, 0.95]</td>\n",
       "      <td>2</td>\n",
       "    </tr>\n",
       "    <tr>\n",
       "      <th>1</th>\n",
       "      <td>[0.2, 0.7, 0.3]</td>\n",
       "      <td>1</td>\n",
       "    </tr>\n",
       "    <tr>\n",
       "      <th>2</th>\n",
       "      <td>[0.5, 0.6, 0.45]</td>\n",
       "      <td>1</td>\n",
       "    </tr>\n",
       "    <tr>\n",
       "      <th>3</th>\n",
       "      <td>[0.2, 0.4, 0.9]</td>\n",
       "      <td>2</td>\n",
       "    </tr>\n",
       "    <tr>\n",
       "      <th>4</th>\n",
       "      <td>[0.1, 0.5, 0.8]</td>\n",
       "      <td>2</td>\n",
       "    </tr>\n",
       "  </tbody>\n",
       "</table>\n",
       "</div>"
      ],
      "text/plain": [
       "         Percentages  class\n",
       "0  [0.77, 0.6, 0.95]      2\n",
       "1    [0.2, 0.7, 0.3]      1\n",
       "2   [0.5, 0.6, 0.45]      1\n",
       "3    [0.2, 0.4, 0.9]      2\n",
       "4    [0.1, 0.5, 0.8]      2"
      ]
     },
     "execution_count": 28,
     "metadata": {},
     "output_type": "execute_result"
    }
   ],
   "source": [
    "import pandas as pd\n",
    "\n",
    "df = pd.DataFrame(dumy_data)\n",
    "df.head()"
   ]
  },
  {
   "cell_type": "code",
   "execution_count": 30,
   "metadata": {},
   "outputs": [],
   "source": [
    "import random \n",
    "\n",
    "def majority_vote_percent(votes):\n",
    "    '''\n",
    "    Predict the majority vote based on the given \n",
    "    probabilities  of the classifier by\n",
    "    returning randomly a class when we have more\n",
    "    than one winner.\n",
    "    '''\n",
    "    \n",
    "    vote_counts = {}\n",
    "    \n",
    "    for index, vote in votes.iterrows():\n",
    "        print(vote['class'])\n",
    "        if vote['class'] in vote_counts.keys():\n",
    "            vote_counts[vote['class']] += max(vote['Percentages'])\n",
    "        else:\n",
    "            vote_counts[vote['class']] = max(vote['Percentages'])\n",
    "    winners = []\n",
    "    max_count = max(vote_counts.values())\n",
    "    \n",
    "    for vote, count in vote_counts.items():\n",
    "        if count == max_count:\n",
    "            winners.append(vote)\n",
    "    print(vote_counts)\n",
    "    \n",
    "    return random.choice(winners)"
   ]
  },
  {
   "cell_type": "code",
   "execution_count": 31,
   "metadata": {},
   "outputs": [
    {
     "name": "stdout",
     "output_type": "stream",
     "text": [
      "2\n",
      "1\n",
      "1\n",
      "2\n",
      "2\n",
      "1\n",
      "1\n",
      "0\n",
      "1\n",
      "2\n",
      "{0: 0.8, 1: 3.4999999999999996, 2: 3.5500000000000003}\n"
     ]
    },
    {
     "data": {
      "text/plain": [
       "2"
      ]
     },
     "execution_count": 31,
     "metadata": {},
     "output_type": "execute_result"
    }
   ],
   "source": [
    "majority_vote_percent(df)"
   ]
  },
  {
   "cell_type": "code",
   "execution_count": 32,
   "metadata": {},
   "outputs": [
    {
     "name": "stdout",
     "output_type": "stream",
     "text": [
      "1\n",
      "4\n",
      "2\n",
      "3\n",
      "3\n",
      "2\n",
      "4\n",
      "1\n"
     ]
    }
   ],
   "source": [
    "a=[1,2,3,4]\n",
    "b=[4,3,2,1]\n",
    "\n",
    "for i, j in zip(a,b):\n",
    "    print(i)\n",
    "    print(j)"
   ]
  },
  {
   "cell_type": "code",
   "execution_count": null,
   "metadata": {},
   "outputs": [],
   "source": []
  }
 ],
 "metadata": {
  "kernelspec": {
   "display_name": "Python [conda env:Sklearn]",
   "language": "python",
   "name": "conda-env-Sklearn-py"
  },
  "language_info": {
   "codemirror_mode": {
    "name": "ipython",
    "version": 3
   },
   "file_extension": ".py",
   "mimetype": "text/x-python",
   "name": "python",
   "nbconvert_exporter": "python",
   "pygments_lexer": "ipython3",
   "version": "3.5.5"
  }
 },
 "nbformat": 4,
 "nbformat_minor": 2
}
