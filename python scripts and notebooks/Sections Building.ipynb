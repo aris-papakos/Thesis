{
 "cells": [
  {
   "cell_type": "code",
   "execution_count": 1,
   "metadata": {},
   "outputs": [],
   "source": [
    "import json\n",
    "import pandas as pd\n",
    "import csv\n",
    "import glob\n",
    "import sys"
   ]
  },
  {
   "cell_type": "markdown",
   "metadata": {},
   "source": [
    "# Create the xml files for java parser"
   ]
  },
  {
   "cell_type": "code",
   "execution_count": null,
   "metadata": {},
   "outputs": [],
   "source": [
    "file = 'Taxiarchis-data-four_categories_part.csv'\n",
    "\n",
    "df =pd.read_csv(file, delimiter='\\t',error_bad_lines=False)"
   ]
  },
  {
   "cell_type": "code",
   "execution_count": null,
   "metadata": {},
   "outputs": [],
   "source": [
    "df.columns"
   ]
  },
  {
   "cell_type": "code",
   "execution_count": null,
   "metadata": {},
   "outputs": [],
   "source": [
    "df.Categories.unique()"
   ]
  },
  {
   "cell_type": "code",
   "execution_count": null,
   "metadata": {},
   "outputs": [],
   "source": [
    "df_cat = df[['DOI_arxiv','Categories']]"
   ]
  },
  {
   "cell_type": "code",
   "execution_count": null,
   "metadata": {},
   "outputs": [],
   "source": [
    "df_cat.to_csv('final_categories.csv',index = False)"
   ]
  },
  {
   "cell_type": "code",
   "execution_count": null,
   "metadata": {},
   "outputs": [],
   "source": [
    "df.shape"
   ]
  },
  {
   "cell_type": "code",
   "execution_count": null,
   "metadata": {},
   "outputs": [],
   "source": [
    "import xml.etree.ElementTree as ET \n",
    "\n",
    "folder = 'C:\\\\Users\\\\papakostas-ioannit\\\\Desktop\\\\Python_Four_Categories\\\\xmls'\n",
    "\n",
    "for index, row in df.iterrows():\n",
    "    tree = ET.fromstring(row.content)\n",
    "    \n",
    "    with open(folder+'\\\\'+str(index)+\".xml\",\"wb\") as file:\n",
    "            file.write(ET.tostring(tree))\n",
    "    print(row.DOI_arxiv)"
   ]
  },
  {
   "cell_type": "markdown",
   "metadata": {},
   "source": [
    "# Create final csv with Sections"
   ]
  },
  {
   "cell_type": "code",
   "execution_count": 130,
   "metadata": {},
   "outputs": [],
   "source": [
    "VersionTwo = 'four_categories_s2.csv'\n",
    "VersionThree = 'four_categories_s3.csv'\n",
    "VersionFour = 'four_categories_s4.csv'"
   ]
  },
  {
   "cell_type": "code",
   "execution_count": 131,
   "metadata": {},
   "outputs": [
    {
     "ename": "NameError",
     "evalue": "name 'df_categories' is not defined",
     "output_type": "error",
     "traceback": [
      "\u001b[1;31m---------------------------------------------------------------------------\u001b[0m",
      "\u001b[1;31mNameError\u001b[0m                                 Traceback (most recent call last)",
      "\u001b[1;32m<ipython-input-131-8d921e6f320b>\u001b[0m in \u001b[0;36m<module>\u001b[1;34m()\u001b[0m\n\u001b[1;32m----> 1\u001b[1;33m \u001b[0mdf_categories\u001b[0m\u001b[1;33m.\u001b[0m\u001b[0mcolumns\u001b[0m\u001b[1;33m\u001b[0m\u001b[0m\n\u001b[0m",
      "\u001b[1;31mNameError\u001b[0m: name 'df_categories' is not defined"
     ]
    }
   ],
   "source": [
    "df_categories.columns"
   ]
  },
  {
   "cell_type": "code",
   "execution_count": 135,
   "metadata": {},
   "outputs": [
    {
     "data": {
      "text/html": [
       "<div>\n",
       "<style scoped>\n",
       "    .dataframe tbody tr th:only-of-type {\n",
       "        vertical-align: middle;\n",
       "    }\n",
       "\n",
       "    .dataframe tbody tr th {\n",
       "        vertical-align: top;\n",
       "    }\n",
       "\n",
       "    .dataframe thead th {\n",
       "        text-align: right;\n",
       "    }\n",
       "</style>\n",
       "<table border=\"1\" class=\"dataframe\">\n",
       "  <thead>\n",
       "    <tr style=\"text-align: right;\">\n",
       "      <th></th>\n",
       "      <th>DOI</th>\n",
       "      <th>Categories</th>\n",
       "    </tr>\n",
       "  </thead>\n",
       "  <tbody>\n",
       "    <tr>\n",
       "      <th>0</th>\n",
       "      <td>10.1016/j.aop.2008.03.005</td>\n",
       "      <td>Condensed Matter - Statistical Mechanics</td>\n",
       "    </tr>\n",
       "    <tr>\n",
       "      <th>1</th>\n",
       "      <td>10.1016/j.carbon.2016.10.063</td>\n",
       "      <td>Condensed Matter - Materials Science</td>\n",
       "    </tr>\n",
       "    <tr>\n",
       "      <th>2</th>\n",
       "      <td>10.1016/j.gca.2011.11.040</td>\n",
       "      <td>Condensed Matter - Statistical Mechanics</td>\n",
       "    </tr>\n",
       "    <tr>\n",
       "      <th>3</th>\n",
       "      <td>10.1016/j.jcp.2013.06.036</td>\n",
       "      <td>Condensed Matter - Materials Science</td>\n",
       "    </tr>\n",
       "    <tr>\n",
       "      <th>4</th>\n",
       "      <td>10.1016/j.jcrysgro.2006.11.214</td>\n",
       "      <td>Condensed Matter - Materials Science</td>\n",
       "    </tr>\n",
       "  </tbody>\n",
       "</table>\n",
       "</div>"
      ],
      "text/plain": [
       "                              DOI                                Categories\n",
       "0       10.1016/j.aop.2008.03.005  Condensed Matter - Statistical Mechanics\n",
       "1    10.1016/j.carbon.2016.10.063      Condensed Matter - Materials Science\n",
       "2       10.1016/j.gca.2011.11.040  Condensed Matter - Statistical Mechanics\n",
       "3       10.1016/j.jcp.2013.06.036      Condensed Matter - Materials Science\n",
       "4  10.1016/j.jcrysgro.2006.11.214      Condensed Matter - Materials Science"
      ]
     },
     "execution_count": 135,
     "metadata": {},
     "output_type": "execute_result"
    }
   ],
   "source": [
    "df_categories = pd.read_csv('final_categories.csv')\n",
    "df_categories.columns = ['DOI', 'Categories']\n",
    "df_categories.head()"
   ]
  },
  {
   "cell_type": "code",
   "execution_count": 132,
   "metadata": {},
   "outputs": [],
   "source": [
    "#Maximize ram point limitation\n",
    "maxInt = sys.maxsize \n",
    "decrement = True\n",
    "\n",
    "while decrement:\n",
    "    # decrease the maxInt value by factor 10 \n",
    "    # as long as the OverflowError occurs.\n",
    "\n",
    "    decrement = False\n",
    "    try:\n",
    "        csv.field_size_limit(maxInt)\n",
    "    except OverflowError:\n",
    "        maxInt = int(maxInt/10)\n",
    "        decrement = True"
   ]
  },
  {
   "cell_type": "code",
   "execution_count": 133,
   "metadata": {},
   "outputs": [],
   "source": [
    "def createDataframes(filename):\n",
    "    '''\n",
    "    Creates a Dataframe with sections as a json file \n",
    "    and DOI and file name.\n",
    "    '''\n",
    "    \n",
    "    notIncludeSections = ['Graphical abstract','Highlights', 'Keywords','PACS','References','Acknowledgments']\n",
    "    headers = ['DOI','xml_name','Sections','Names']\n",
    "    temp = []\n",
    "    Sections = []\n",
    "    flag = 0\n",
    "\n",
    "\n",
    "    with open(filename,'r') as articles:\n",
    "\n",
    "            reader = csv.reader(articles,delimiter='\\t')\n",
    "\n",
    "            for count,row in enumerate(reader):\n",
    "\n",
    "                if len(row)>8:\n",
    "                    data = dict()\n",
    "                    \n",
    "                    for section in row[2:-1]:\n",
    "                        result = section.split(' ================== ')\n",
    "\n",
    "                        if  result[0] not in notIncludeSections: \n",
    "                            data[result[0]] = result[1]\n",
    "                        else: \n",
    "                            continue\n",
    "\n",
    "                    if len(data) == 0:\n",
    "                        continue\n",
    "                    else:\n",
    "                        json_data = json.dumps(data)\n",
    "                        Sections.append([row[0],row[1], json_data, list(data.keys())])\n",
    "\n",
    "    return pd.DataFrame(Sections, columns=headers)\n",
    "\n",
    "    "
   ]
  },
  {
   "cell_type": "code",
   "execution_count": 14,
   "metadata": {},
   "outputs": [],
   "source": [
    "file = \"four_categories_s2.csv\"\n",
    "df = createDataframes(file)\n"
   ]
  },
  {
   "cell_type": "code",
   "execution_count": 32,
   "metadata": {},
   "outputs": [
    {
     "data": {
      "text/html": [
       "<div>\n",
       "<style scoped>\n",
       "    .dataframe tbody tr th:only-of-type {\n",
       "        vertical-align: middle;\n",
       "    }\n",
       "\n",
       "    .dataframe tbody tr th {\n",
       "        vertical-align: top;\n",
       "    }\n",
       "\n",
       "    .dataframe thead th {\n",
       "        text-align: right;\n",
       "    }\n",
       "</style>\n",
       "<table border=\"1\" class=\"dataframe\">\n",
       "  <thead>\n",
       "    <tr style=\"text-align: right;\">\n",
       "      <th></th>\n",
       "      <th>DOI</th>\n",
       "      <th>xml_name</th>\n",
       "      <th>Sections</th>\n",
       "      <th>Names</th>\n",
       "    </tr>\n",
       "  </thead>\n",
       "  <tbody>\n",
       "    <tr>\n",
       "      <th>0</th>\n",
       "      <td>10.1016/j.jnucmat.2011.08.041</td>\n",
       "      <td>7.xml</td>\n",
       "      <td>{\"Summary\": \"In summary, we have studied the s...</td>\n",
       "      <td>[Summary, Thermodynamic properties, Difference...</td>\n",
       "    </tr>\n",
       "    <tr>\n",
       "      <th>1</th>\n",
       "      <td>10.1016/j.jssc.2014.08.004</td>\n",
       "      <td>8.xml</td>\n",
       "      <td>{\"Density derived electrostatic and chemical (...</td>\n",
       "      <td>[Density derived electrostatic and chemical (D...</td>\n",
       "    </tr>\n",
       "    <tr>\n",
       "      <th>2</th>\n",
       "      <td>10.1016/S0039-6028(01)01214-6</td>\n",
       "      <td>15.xml</td>\n",
       "      <td>{\"O(1\\u00d71)/Ru(0001) and RuO2(110) surface s...</td>\n",
       "      <td>[O(1×1)/Ru(0001) and RuO2(110) surface structu...</td>\n",
       "    </tr>\n",
       "    <tr>\n",
       "      <th>3</th>\n",
       "      <td>10.1016/j.nimb.2006.12.036</td>\n",
       "      <td>17.xml</td>\n",
       "      <td>{\"Experimental details\": \"The studies performe...</td>\n",
       "      <td>[Experimental details, Acknowledgement, Conclu...</td>\n",
       "    </tr>\n",
       "    <tr>\n",
       "      <th>4</th>\n",
       "      <td>10.1016/j.jmmm.2008.07.002</td>\n",
       "      <td>21.xml</td>\n",
       "      <td>{\"Summary\": \"We have carried out a comparative...</td>\n",
       "      <td>[Summary, MRPT in [110] and [001] films, Tempe...</td>\n",
       "    </tr>\n",
       "  </tbody>\n",
       "</table>\n",
       "</div>"
      ],
      "text/plain": [
       "                             DOI xml_name  \\\n",
       "0  10.1016/j.jnucmat.2011.08.041    7.xml   \n",
       "1     10.1016/j.jssc.2014.08.004    8.xml   \n",
       "2  10.1016/S0039-6028(01)01214-6   15.xml   \n",
       "3     10.1016/j.nimb.2006.12.036   17.xml   \n",
       "4     10.1016/j.jmmm.2008.07.002   21.xml   \n",
       "\n",
       "                                            Sections  \\\n",
       "0  {\"Summary\": \"In summary, we have studied the s...   \n",
       "1  {\"Density derived electrostatic and chemical (...   \n",
       "2  {\"O(1\\u00d71)/Ru(0001) and RuO2(110) surface s...   \n",
       "3  {\"Experimental details\": \"The studies performe...   \n",
       "4  {\"Summary\": \"We have carried out a comparative...   \n",
       "\n",
       "                                               Names  \n",
       "0  [Summary, Thermodynamic properties, Difference...  \n",
       "1  [Density derived electrostatic and chemical (D...  \n",
       "2  [O(1×1)/Ru(0001) and RuO2(110) surface structu...  \n",
       "3  [Experimental details, Acknowledgement, Conclu...  \n",
       "4  [Summary, MRPT in [110] and [001] films, Tempe...  "
      ]
     },
     "execution_count": 32,
     "metadata": {},
     "output_type": "execute_result"
    }
   ],
   "source": [
    "df.head()"
   ]
  },
  {
   "cell_type": "code",
   "execution_count": 68,
   "metadata": {},
   "outputs": [
    {
     "data": {
      "text/plain": [
       "['Experimental details',\n",
       " 'Systems preparation and characterization',\n",
       " 'Introduction',\n",
       " 'Acknowledgements',\n",
       " 'Abstract',\n",
       " 'STS and DFT of gr/O/Ru(0001)',\n",
       " 'Results and discussions',\n",
       " 'ARPES and DFT of gr/Ir(111) and gr/Cu/Ir(111)',\n",
       " 'Conclusions']"
      ]
     },
     "execution_count": 68,
     "metadata": {},
     "output_type": "execute_result"
    }
   ],
   "source": [
    "df['Names'][47]"
   ]
  },
  {
   "cell_type": "code",
   "execution_count": 83,
   "metadata": {},
   "outputs": [
    {
     "data": {
      "text/plain": [
       "str"
      ]
     },
     "execution_count": 83,
     "metadata": {},
     "output_type": "execute_result"
    }
   ],
   "source": [
    "js_test = df['Sections'][47]\n",
    "type(js_test)"
   ]
  },
  {
   "cell_type": "code",
   "execution_count": 136,
   "metadata": {},
   "outputs": [],
   "source": [
    "#COMBINE All the files\n",
    "\n",
    "files=[VersionTwo, VersionThree, VersionFour]\n",
    "dataframes = []\n",
    "for file in files:\n",
    "    dataframes.append(createDataframes(file))\n",
    "\n",
    "df_sections = pd.concat(dataframes) #Concatinate all dataframes\n",
    "# df_categories = pd.read_csv('final_categories.csv')\n",
    "\n",
    "df = pd.merge(df_sections,df_categories, on='DOI',how=\"inner\") #Merge the sections with the categories based on DOI\n"
   ]
  },
  {
   "cell_type": "code",
   "execution_count": 166,
   "metadata": {},
   "outputs": [
    {
     "data": {
      "text/html": [
       "<div>\n",
       "<style scoped>\n",
       "    .dataframe tbody tr th:only-of-type {\n",
       "        vertical-align: middle;\n",
       "    }\n",
       "\n",
       "    .dataframe tbody tr th {\n",
       "        vertical-align: top;\n",
       "    }\n",
       "\n",
       "    .dataframe thead th {\n",
       "        text-align: right;\n",
       "    }\n",
       "</style>\n",
       "<table border=\"1\" class=\"dataframe\">\n",
       "  <thead>\n",
       "    <tr style=\"text-align: right;\">\n",
       "      <th></th>\n",
       "      <th>index</th>\n",
       "      <th>DOI</th>\n",
       "      <th>xml_name</th>\n",
       "      <th>Sections</th>\n",
       "      <th>Names</th>\n",
       "      <th>Categories</th>\n",
       "    </tr>\n",
       "  </thead>\n",
       "  <tbody>\n",
       "    <tr>\n",
       "      <th>0</th>\n",
       "      <td>0</td>\n",
       "      <td>10.1016/j.jnucmat.2011.08.041</td>\n",
       "      <td>7.xml</td>\n",
       "      <td>{\"Summary\": \"In summary, we have studied the s...</td>\n",
       "      <td>[Summary, Thermodynamic properties, Difference...</td>\n",
       "      <td>Condensed Matter - Strongly Correlated Electrons</td>\n",
       "    </tr>\n",
       "    <tr>\n",
       "      <th>1</th>\n",
       "      <td>3</td>\n",
       "      <td>10.1016/j.nimb.2006.12.036</td>\n",
       "      <td>17.xml</td>\n",
       "      <td>{\"Experimental details\": \"The studies performe...</td>\n",
       "      <td>[Experimental details, Acknowledgement, Conclu...</td>\n",
       "      <td>Condensed Matter - Strongly Correlated Electrons</td>\n",
       "    </tr>\n",
       "    <tr>\n",
       "      <th>2</th>\n",
       "      <td>5</td>\n",
       "      <td>10.1016/S0921-4526(99)01837-2</td>\n",
       "      <td>42.xml</td>\n",
       "      <td>{\"(TMTCF)2X\": \"Since the localized state along...</td>\n",
       "      <td>[(TMTCF)2X, HF calculations, ?-(ET)2X, Abstrac...</td>\n",
       "      <td>Condensed Matter - Strongly Correlated Electrons</td>\n",
       "    </tr>\n",
       "    <tr>\n",
       "      <th>3</th>\n",
       "      <td>8</td>\n",
       "      <td>10.1016/j.aop.2006.04.007</td>\n",
       "      <td>52.xml</td>\n",
       "      <td>{\"Conclusion\": \"To conclude, we have shown tha...</td>\n",
       "      <td>[Conclusion, Flowgrams for the short-range mod...</td>\n",
       "      <td>Condensed Matter - Strongly Correlated Electrons</td>\n",
       "    </tr>\n",
       "    <tr>\n",
       "      <th>4</th>\n",
       "      <td>31</td>\n",
       "      <td>10.1016/S0550-3213(03)00379-1</td>\n",
       "      <td>154.xml</td>\n",
       "      <td>{\"Model and formalism\": \"2.1SU(N)-invariant d-...</td>\n",
       "      <td>[Model and formalism, Introduction, Contact wi...</td>\n",
       "      <td>Condensed Matter - Strongly Correlated Electrons</td>\n",
       "    </tr>\n",
       "  </tbody>\n",
       "</table>\n",
       "</div>"
      ],
      "text/plain": [
       "   index                            DOI xml_name  \\\n",
       "0      0  10.1016/j.jnucmat.2011.08.041    7.xml   \n",
       "1      3     10.1016/j.nimb.2006.12.036   17.xml   \n",
       "2      5  10.1016/S0921-4526(99)01837-2   42.xml   \n",
       "3      8      10.1016/j.aop.2006.04.007   52.xml   \n",
       "4     31  10.1016/S0550-3213(03)00379-1  154.xml   \n",
       "\n",
       "                                            Sections  \\\n",
       "0  {\"Summary\": \"In summary, we have studied the s...   \n",
       "1  {\"Experimental details\": \"The studies performe...   \n",
       "2  {\"(TMTCF)2X\": \"Since the localized state along...   \n",
       "3  {\"Conclusion\": \"To conclude, we have shown tha...   \n",
       "4  {\"Model and formalism\": \"2.1SU(N)-invariant d-...   \n",
       "\n",
       "                                               Names  \\\n",
       "0  [Summary, Thermodynamic properties, Difference...   \n",
       "1  [Experimental details, Acknowledgement, Conclu...   \n",
       "2  [(TMTCF)2X, HF calculations, ?-(ET)2X, Abstrac...   \n",
       "3  [Conclusion, Flowgrams for the short-range mod...   \n",
       "4  [Model and formalism, Introduction, Contact wi...   \n",
       "\n",
       "                                         Categories  \n",
       "0  Condensed Matter - Strongly Correlated Electrons  \n",
       "1  Condensed Matter - Strongly Correlated Electrons  \n",
       "2  Condensed Matter - Strongly Correlated Electrons  \n",
       "3  Condensed Matter - Strongly Correlated Electrons  \n",
       "4  Condensed Matter - Strongly Correlated Electrons  "
      ]
     },
     "execution_count": 166,
     "metadata": {},
     "output_type": "execute_result"
    }
   ],
   "source": [
    "match = 'Condensed Matter - Strongly Correlated Electrons'\n",
    "df_strongly = df[df['Categories'] == match].reset_index()\n",
    "\n",
    "df_strongly.head()"
   ]
  },
  {
   "cell_type": "code",
   "execution_count": 180,
   "metadata": {},
   "outputs": [
    {
     "data": {
      "text/plain": [
       "['Full Hamiltonian',\n",
       " 'Discussion, open questions, and conclusions',\n",
       " 'Small-angle neutron scattering',\n",
       " 'Models and parameters',\n",
       " 'PDF techniques',\n",
       " 'Double-exchange is not enough',\n",
       " 'Introduction',\n",
       " 'Possible mixed-phase tendencies in nonmanganite compounds',\n",
       " 'Influence of long-range Coulomb interactions',\n",
       " 'Related theoretical work on electronic phase separation applied to manganites',\n",
       " 'Mean-field approximation for H?',\n",
       " 'La1?xSrxMnO3 at low density',\n",
       " 'Quantum localized spins',\n",
       " 'Ferromagnetism due to a large Hund coupling',\n",
       " 'La1?xCaxMnO3 at density 0.0?x<0.5',\n",
       " 'Electron–phonon coupling',\n",
       " 'Photoemission',\n",
       " 'Double-layer compound',\n",
       " 'X-ray absorption, transport and magnetism',\n",
       " 'Scanning tunneling spectroscopy',\n",
       " 'Importance of tolerance factor',\n",
       " 'Bi-stripe structure at x>0.5',\n",
       " 'More recent theories',\n",
       " 'JH=? limit',\n",
       " 'Studies with high pressure',\n",
       " 'Neutron scattering',\n",
       " 'Charge ordering at x=0.5 and the CE-state',\n",
       " 'Coulomb interactions',\n",
       " 'Charge order at x<0.5',\n",
       " 'Hall effect',\n",
       " 'Phase diagram with classical localized spins',\n",
       " 'Abstract',\n",
       " 'Resistivity of manganites in the mixed-phase regime',\n",
       " 'Nuclear magnetic resonance',\n",
       " 'A-type AF at x=0.0',\n",
       " 'On-site Coulomb interactions and phase separation',\n",
       " 'Low-bandwidth manganites: the case of Pr1?xCaxMnO3',\n",
       " 'Free eg-electron model',\n",
       " 'Monte Carlo simulations',\n",
       " 'Main results: one orbital model',\n",
       " 'Acknowledgements',\n",
       " 'Heisenberg term',\n",
       " 'Early studies',\n",
       " 'Theory of manganites',\n",
       " 'Experimental evidence of inhomogeneities in manganites',\n",
       " 'Influence of JAF',\n",
       " 'Spin-canted state',\n",
       " 'Jahn–Teller phonons and polarons',\n",
       " 'Spin incommensurability and stripes',\n",
       " 'JT phononic and Coulombic models',\n",
       " 'Sr-based compounds at high-hole density: the cases of Pr1?xSrxMnO3 and Nd1?xSrxMnO3',\n",
       " 'Electronic phase separation with two orbitals',\n",
       " 'Hopping amplitudes',\n",
       " 'Mixed-phase tendencies in single-layered manganites',\n",
       " 'Pr1?xCaxMnO3',\n",
       " 'Mixed-phase tendencies in bilayered manganites',\n",
       " 'Main results: two orbital model',\n",
       " 'Phase diagram at density x=0.0',\n",
       " 'Other perovskite manganite compounds',\n",
       " 'La1?xCaxMnO3 at x?0.5',\n",
       " 'Topological origin of the x=0.5 CE-state',\n",
       " 'La1?xSrxMnO3 at intermediate density',\n",
       " 'Phase separation caused by the influence of disorder on first-order transitions',\n",
       " 'Tendencies toward electronic phase separation in t–J-like models for transition metal oxides',\n",
       " 'Theories based on Anderson localization',\n",
       " 'Single-layer compound',\n",
       " 'Muon spin relaxation',\n",
       " 'Double exchange',\n",
       " 'Experimental evidence of inhomogeneities',\n",
       " 'Large bandwidth manganites and inhomogeneities: the case of La1?xSrxMnO3',\n",
       " 'One-orbital model',\n",
       " 'Charge-ordered state at x=0.5',\n",
       " 'Effect of crystal field',\n",
       " 'Estimations of parameters',\n",
       " 'Charge stacking',\n",
       " 'Large-bandwidth manganites: the case of La1?xSrxMnO3',\n",
       " 'Electron-doped manganites',\n",
       " 'Related work',\n",
       " 'Basic properties, phase diagrams, and CMR effect in manganites',\n",
       " 'Electron microscopy',\n",
       " 'Pseudo-gap in mixed-phase states',\n",
       " 'Intermediate-bandwidth manganites: the case of La1?xCaxMnO3']"
      ]
     },
     "execution_count": 180,
     "metadata": {},
     "output_type": "execute_result"
    }
   ],
   "source": [
    "df_strongly['Names'][14]"
   ]
  },
  {
   "cell_type": "code",
   "execution_count": 140,
   "metadata": {},
   "outputs": [
    {
     "data": {
      "text/html": [
       "<div>\n",
       "<style scoped>\n",
       "    .dataframe tbody tr th:only-of-type {\n",
       "        vertical-align: middle;\n",
       "    }\n",
       "\n",
       "    .dataframe tbody tr th {\n",
       "        vertical-align: top;\n",
       "    }\n",
       "\n",
       "    .dataframe thead th {\n",
       "        text-align: right;\n",
       "    }\n",
       "</style>\n",
       "<table border=\"1\" class=\"dataframe\">\n",
       "  <thead>\n",
       "    <tr style=\"text-align: right;\">\n",
       "      <th></th>\n",
       "      <th>DOI</th>\n",
       "    </tr>\n",
       "    <tr>\n",
       "      <th>Categories</th>\n",
       "      <th></th>\n",
       "    </tr>\n",
       "  </thead>\n",
       "  <tbody>\n",
       "    <tr>\n",
       "      <th>Condensed Matter - Materials Science</th>\n",
       "      <td>2375</td>\n",
       "    </tr>\n",
       "    <tr>\n",
       "      <th>Condensed Matter - Mesoscale and Nanoscale Physics</th>\n",
       "      <td>1460</td>\n",
       "    </tr>\n",
       "    <tr>\n",
       "      <th>Condensed Matter - Statistical Mechanics</th>\n",
       "      <td>2061</td>\n",
       "    </tr>\n",
       "    <tr>\n",
       "      <th>Condensed Matter - Strongly Correlated Electrons</th>\n",
       "      <td>1020</td>\n",
       "    </tr>\n",
       "  </tbody>\n",
       "</table>\n",
       "</div>"
      ],
      "text/plain": [
       "                                                     DOI\n",
       "Categories                                              \n",
       "Condensed Matter - Materials Science                2375\n",
       "Condensed Matter - Mesoscale and Nanoscale Physics  1460\n",
       "Condensed Matter - Statistical Mechanics            2061\n",
       "Condensed Matter - Strongly Correlated Electrons    1020"
      ]
     },
     "execution_count": 140,
     "metadata": {},
     "output_type": "execute_result"
    }
   ],
   "source": [
    "df[['Categories','DOI']].groupby('Categories').count()"
   ]
  },
  {
   "cell_type": "markdown",
   "metadata": {},
   "source": [
    "# Create 4 features"
   ]
  },
  {
   "cell_type": "code",
   "execution_count": 152,
   "metadata": {},
   "outputs": [
    {
     "data": {
      "text/html": [
       "<div>\n",
       "<style scoped>\n",
       "    .dataframe tbody tr th:only-of-type {\n",
       "        vertical-align: middle;\n",
       "    }\n",
       "\n",
       "    .dataframe tbody tr th {\n",
       "        vertical-align: top;\n",
       "    }\n",
       "\n",
       "    .dataframe thead th {\n",
       "        text-align: right;\n",
       "    }\n",
       "</style>\n",
       "<table border=\"1\" class=\"dataframe\">\n",
       "  <thead>\n",
       "    <tr style=\"text-align: right;\">\n",
       "      <th></th>\n",
       "      <th>doc_id</th>\n",
       "      <th>Category</th>\n",
       "      <th>DOI</th>\n",
       "      <th>Section</th>\n",
       "      <th>Sec_Name</th>\n",
       "    </tr>\n",
       "  </thead>\n",
       "  <tbody>\n",
       "    <tr>\n",
       "      <th>0</th>\n",
       "      <td>0_0</td>\n",
       "      <td>Condensed Matter - Strongly Correlated Electrons</td>\n",
       "      <td>10.1016/j.jnucmat.2011.08.041</td>\n",
       "      <td>We systematically investigate the electronic s...</td>\n",
       "      <td>Abstract</td>\n",
       "    </tr>\n",
       "    <tr>\n",
       "      <th>1</th>\n",
       "      <td>0_1</td>\n",
       "      <td>Condensed Matter - Strongly Correlated Electrons</td>\n",
       "      <td>10.1016/j.jnucmat.2011.08.041</td>\n",
       "      <td>Plutonium-based materials have been extensivel...</td>\n",
       "      <td>Introduction</td>\n",
       "    </tr>\n",
       "    <tr>\n",
       "      <th>2</th>\n",
       "      <td>0_2</td>\n",
       "      <td>Condensed Matter - Strongly Correlated Electrons</td>\n",
       "      <td>10.1016/j.jnucmat.2011.08.041</td>\n",
       "      <td>3.1Electronic structure of PuO2In order to inv...</td>\n",
       "      <td>Conclusions</td>\n",
       "    </tr>\n",
       "    <tr>\n",
       "      <th>3</th>\n",
       "      <td>0_3</td>\n",
       "      <td>Condensed Matter - Strongly Correlated Electrons</td>\n",
       "      <td>10.1016/j.jnucmat.2011.08.041</td>\n",
       "      <td>In summary, we have studied the structural, el...</td>\n",
       "      <td>In_Between</td>\n",
       "    </tr>\n",
       "    <tr>\n",
       "      <th>4</th>\n",
       "      <td>1_0</td>\n",
       "      <td>Condensed Matter - Materials Science</td>\n",
       "      <td>10.1016/j.jssc.2014.08.004</td>\n",
       "      <td>Atomic partial charges are parameters of key i...</td>\n",
       "      <td>Abstract</td>\n",
       "    </tr>\n",
       "  </tbody>\n",
       "</table>\n",
       "</div>"
      ],
      "text/plain": [
       "  doc_id                                          Category  \\\n",
       "0    0_0  Condensed Matter - Strongly Correlated Electrons   \n",
       "1    0_1  Condensed Matter - Strongly Correlated Electrons   \n",
       "2    0_2  Condensed Matter - Strongly Correlated Electrons   \n",
       "3    0_3  Condensed Matter - Strongly Correlated Electrons   \n",
       "4    1_0              Condensed Matter - Materials Science   \n",
       "\n",
       "                             DOI  \\\n",
       "0  10.1016/j.jnucmat.2011.08.041   \n",
       "1  10.1016/j.jnucmat.2011.08.041   \n",
       "2  10.1016/j.jnucmat.2011.08.041   \n",
       "3  10.1016/j.jnucmat.2011.08.041   \n",
       "4     10.1016/j.jssc.2014.08.004   \n",
       "\n",
       "                                             Section      Sec_Name  \n",
       "0  We systematically investigate the electronic s...      Abstract  \n",
       "1  Plutonium-based materials have been extensivel...  Introduction  \n",
       "2  3.1Electronic structure of PuO2In order to inv...   Conclusions  \n",
       "3  In summary, we have studied the structural, el...    In_Between  \n",
       "4  Atomic partial charges are parameters of key i...      Abstract  "
      ]
     },
     "execution_count": 152,
     "metadata": {},
     "output_type": "execute_result"
    }
   ],
   "source": [
    "import json\n",
    "#Final Deployment!!!!\n",
    "l = []\n",
    "headers = ['doc_id', 'Category','DOI', 'Section','Sec_Name'] \n",
    "\n",
    "\n",
    "for index, row in df.iterrows():\n",
    "    \n",
    "    flag = 0\n",
    "    \n",
    "    temp = []\n",
    "    #Load json structure - Extract sections\n",
    "    try_js_sec = json.loads(row.Sections)\n",
    "    sec = list(try_js_sec.keys())\n",
    "    \n",
    "    if (str('Abstract') in sec) and (str('Introduction') in sec):\n",
    "\n",
    "        sec.remove('Abstract')\n",
    "        sec.remove('Introduction')\n",
    "\n",
    "        temp.append([str(index)+'_'+str(flag), row.Categories, row.DOI, try_js_sec['Abstract'], 'Abstract'])\n",
    "        flag += 1\n",
    "        temp.append([str(index)+'_'+str(flag), row.Categories, row.DOI,try_js_sec['Introduction'], 'Introduction'])\n",
    "        flag += 1\n",
    "#         print(sec)\n",
    "\n",
    "    else:\n",
    "        pass\n",
    "\n",
    "\n",
    "    conlu_sections=['Conclusions','Conclusion' ,\"Discussion and conclusion\", 'Concluding remarks',\\\n",
    "                    'Results and discussion','Results and discussions','Summary and discussion', \\\n",
    "                    'Summary and discussions', 'Numerical performance and concluding discussion',\\\n",
    "                    'Concluding remarks', 'Discussion', 'Discussions', 'Summary']\n",
    "    fla2=0\n",
    "    for i in conlu_sections:\n",
    "#         print(i)\n",
    "        if i in sec:\n",
    "#             print(sec)\n",
    "            temp.append([str(index)+'_'+str(flag), row.Categories, row.DOI,try_js_sec[i], 'Conclusions'])\n",
    "            flag += 1\n",
    "            break\n",
    "\n",
    "\n",
    "    #IN-BETWEEN    \n",
    "    text = str()  \n",
    "    for s in sec:\n",
    "\n",
    "        text+= try_js_sec[s]\n",
    "\n",
    "\n",
    "    temp.append([str(index)+'_'+str(flag), row.Categories, row.DOI, text, 'In_Between']) \n",
    "\n",
    "    if len(temp)==4:\n",
    "        for r in temp:\n",
    "            l.append(r)\n",
    "\n",
    "test_df = pd.DataFrame(l, columns=headers)\n",
    "test_df.head()\n",
    "       "
   ]
  },
  {
   "cell_type": "code",
   "execution_count": 182,
   "metadata": {},
   "outputs": [],
   "source": [
    "test_df.to_csv('Section_4_4_Ensemble.csv', quoting=csv.QUOTE_NONE, index=False, escapechar='\\\\',sep ='\\t')"
   ]
  },
  {
   "cell_type": "code",
   "execution_count": 181,
   "metadata": {},
   "outputs": [
    {
     "data": {
      "text/plain": [
       "(22288, 5)"
      ]
     },
     "execution_count": 181,
     "metadata": {},
     "output_type": "execute_result"
    }
   ],
   "source": [
    "test_df.shape"
   ]
  },
  {
   "cell_type": "code",
   "execution_count": 3,
   "metadata": {},
   "outputs": [
    {
     "data": {
      "text/plain": [
       "1669.0"
      ]
     },
     "execution_count": 3,
     "metadata": {},
     "output_type": "execute_result"
    }
   ],
   "source": [
    "6676/4"
   ]
  },
  {
   "cell_type": "code",
   "execution_count": 193,
   "metadata": {},
   "outputs": [
    {
     "data": {
      "text/plain": [
       "(5552, 3)"
      ]
     },
     "execution_count": 193,
     "metadata": {},
     "output_type": "execute_result"
    }
   ],
   "source": [
    "drop = test_df[['Category', 'DOI']].drop_duplicates().reset_index()\n",
    "drop.shape"
   ]
  },
  {
   "cell_type": "code",
   "execution_count": 197,
   "metadata": {},
   "outputs": [],
   "source": [
    "drop = drop[['DOI','Category']]"
   ]
  },
  {
   "cell_type": "code",
   "execution_count": 198,
   "metadata": {},
   "outputs": [
    {
     "data": {
      "text/html": [
       "<div>\n",
       "<style scoped>\n",
       "    .dataframe tbody tr th:only-of-type {\n",
       "        vertical-align: middle;\n",
       "    }\n",
       "\n",
       "    .dataframe tbody tr th {\n",
       "        vertical-align: top;\n",
       "    }\n",
       "\n",
       "    .dataframe thead th {\n",
       "        text-align: right;\n",
       "    }\n",
       "</style>\n",
       "<table border=\"1\" class=\"dataframe\">\n",
       "  <thead>\n",
       "    <tr style=\"text-align: right;\">\n",
       "      <th></th>\n",
       "      <th>DOI</th>\n",
       "      <th>Category</th>\n",
       "    </tr>\n",
       "  </thead>\n",
       "  <tbody>\n",
       "    <tr>\n",
       "      <th>0</th>\n",
       "      <td>10.1016/j.jnucmat.2011.08.041</td>\n",
       "      <td>Condensed Matter - Strongly Correlated Electrons</td>\n",
       "    </tr>\n",
       "    <tr>\n",
       "      <th>1</th>\n",
       "      <td>10.1016/j.jssc.2014.08.004</td>\n",
       "      <td>Condensed Matter - Materials Science</td>\n",
       "    </tr>\n",
       "    <tr>\n",
       "      <th>2</th>\n",
       "      <td>10.1016/S0039-6028(01)01214-6</td>\n",
       "      <td>Condensed Matter - Materials Science</td>\n",
       "    </tr>\n",
       "    <tr>\n",
       "      <th>3</th>\n",
       "      <td>10.1016/j.nimb.2006.12.036</td>\n",
       "      <td>Condensed Matter - Strongly Correlated Electrons</td>\n",
       "    </tr>\n",
       "    <tr>\n",
       "      <th>4</th>\n",
       "      <td>10.1016/j.jmmm.2008.07.002</td>\n",
       "      <td>Condensed Matter - Materials Science</td>\n",
       "    </tr>\n",
       "  </tbody>\n",
       "</table>\n",
       "</div>"
      ],
      "text/plain": [
       "                             DOI  \\\n",
       "0  10.1016/j.jnucmat.2011.08.041   \n",
       "1     10.1016/j.jssc.2014.08.004   \n",
       "2  10.1016/S0039-6028(01)01214-6   \n",
       "3     10.1016/j.nimb.2006.12.036   \n",
       "4     10.1016/j.jmmm.2008.07.002   \n",
       "\n",
       "                                           Category  \n",
       "0  Condensed Matter - Strongly Correlated Electrons  \n",
       "1              Condensed Matter - Materials Science  \n",
       "2              Condensed Matter - Materials Science  \n",
       "3  Condensed Matter - Strongly Correlated Electrons  \n",
       "4              Condensed Matter - Materials Science  "
      ]
     },
     "execution_count": 198,
     "metadata": {},
     "output_type": "execute_result"
    }
   ],
   "source": [
    "drop.head()"
   ]
  },
  {
   "cell_type": "code",
   "execution_count": 199,
   "metadata": {},
   "outputs": [],
   "source": [
    "drop.to_csv('doi_categories_4_4_features.csv', quoting=csv.QUOTE_NONE, index=False, escapechar='\\\\',sep ='\\t')"
   ]
  },
  {
   "cell_type": "code",
   "execution_count": null,
   "metadata": {},
   "outputs": [],
   "source": [
    "27664-22288"
   ]
  },
  {
   "cell_type": "code",
   "execution_count": 155,
   "metadata": {},
   "outputs": [
    {
     "data": {
      "text/plain": [
       "Category\n",
       "Condensed Matter - Materials Science                  2095.0\n",
       "Condensed Matter - Mesoscale and Nanoscale Physics    1158.0\n",
       "Condensed Matter - Statistical Mechanics              1540.0\n",
       "Condensed Matter - Strongly Correlated Electrons       779.0\n",
       "Name: DOI, dtype: float64"
      ]
     },
     "execution_count": 155,
     "metadata": {},
     "output_type": "execute_result"
    }
   ],
   "source": [
    "smpl = test_df[['Category','DOI']].groupby('Category').count()\n",
    "smpl['DOI'].apply(lambda x : x/4)\n"
   ]
  },
  {
   "cell_type": "code",
   "execution_count": 194,
   "metadata": {},
   "outputs": [
    {
     "data": {
      "text/plain": [
       "5572"
      ]
     },
     "execution_count": 194,
     "metadata": {},
     "output_type": "execute_result"
    }
   ],
   "source": [
    "2095+1158+1540+779"
   ]
  },
  {
   "cell_type": "code",
   "execution_count": null,
   "metadata": {},
   "outputs": [],
   "source": [
    "df[['DOI', 'Sections', 'Categories']].head(10)"
   ]
  },
  {
   "cell_type": "code",
   "execution_count": 15,
   "metadata": {},
   "outputs": [],
   "source": [
    "df[['DOI', 'Categories']].to_csv('DOI_Categories_4.csv', quoting=csv.QUOTE_NONE, index=False, escapechar='\\\\',sep ='\\t')"
   ]
  },
  {
   "cell_type": "code",
   "execution_count": null,
   "metadata": {},
   "outputs": [],
   "source": [
    "df[[ 'Categories','DOI','Sections']].to_csv('Sections_2.csv', quoting=csv.QUOTE_NONE, index=False, escapechar='\\\\',sep ='\\t')"
   ]
  },
  {
   "cell_type": "markdown",
   "metadata": {},
   "source": [
    "# Create the whole document"
   ]
  },
  {
   "cell_type": "code",
   "execution_count": 21,
   "metadata": {},
   "outputs": [],
   "source": [
    "def createDataframes_fullDocument(filename):\n",
    "    '''\n",
    "    Creates a Dataframe with sections as a json file \n",
    "    and DOI and file name.\n",
    "    '''\n",
    "    \n",
    "    notIncludeSections = ['Graphical abstract','Highlights', 'Keywords','PACS','References','Acknowledgments']\n",
    "    headers = ['DOI','xml_name','Full_Document']\n",
    "    temp = []\n",
    "    Sections = []\n",
    "    flag = 0\n",
    "\n",
    "\n",
    "    with open(filename,'r') as articles:\n",
    "\n",
    "            reader = csv.reader(articles,delimiter='\\t')\n",
    "\n",
    "            for count,row in enumerate(reader):\n",
    "\n",
    "                if len(row)>8:\n",
    "                    data = str()\n",
    "                    name_sec = 'Section_'\n",
    "                    for count1, section in enumerate(row[2:-1]):\n",
    "                        result = section.split(' ================== ')\n",
    "\n",
    "                        if  result[0] not in notIncludeSections: \n",
    "#                             data[name_sec+str(count1)] = result[1]\n",
    "                            data+=result[1] \n",
    "                        else: \n",
    "                            continue\n",
    "\n",
    "                    if len(data) == 0:\n",
    "                        continue\n",
    "                    else:\n",
    "#                         json_data = json.dumps(data)\n",
    "                        Sections.append([row[0],row[1], data])\n",
    "\n",
    "    return pd.DataFrame(Sections, columns=headers)\n",
    "\n",
    "    \n",
    "# test = createDataframes_fullDocument(VersionFour)\n",
    "# test.head()"
   ]
  },
  {
   "cell_type": "code",
   "execution_count": 24,
   "metadata": {},
   "outputs": [],
   "source": [
    "files=[VersionTwo, VersionThree, VersionFour]\n",
    "dataframes = []\n",
    "for file in files:\n",
    "    dataframes.append(createDataframes_fullDocument(file))\n",
    "\n",
    "df_fullDocument = pd.concat(dataframes) #Concatinate all dataframes\n",
    "# df_categories = pd.read_csv('final_categories.csv')\n",
    "\n",
    "df_full = pd.merge(df_fullDocument, df_categories, on='DOI',how=\"inner\") #Merge the sections with the categories based on DOI"
   ]
  },
  {
   "cell_type": "code",
   "execution_count": 25,
   "metadata": {},
   "outputs": [
    {
     "data": {
      "text/html": [
       "<div>\n",
       "<style scoped>\n",
       "    .dataframe tbody tr th:only-of-type {\n",
       "        vertical-align: middle;\n",
       "    }\n",
       "\n",
       "    .dataframe tbody tr th {\n",
       "        vertical-align: top;\n",
       "    }\n",
       "\n",
       "    .dataframe thead th {\n",
       "        text-align: right;\n",
       "    }\n",
       "</style>\n",
       "<table border=\"1\" class=\"dataframe\">\n",
       "  <thead>\n",
       "    <tr style=\"text-align: right;\">\n",
       "      <th></th>\n",
       "      <th>DOI</th>\n",
       "      <th>xml_name</th>\n",
       "      <th>Full_Document</th>\n",
       "      <th>Categories</th>\n",
       "    </tr>\n",
       "  </thead>\n",
       "  <tbody>\n",
       "    <tr>\n",
       "      <th>0</th>\n",
       "      <td>10.1016/j.jnucmat.2011.08.041</td>\n",
       "      <td>7.xml</td>\n",
       "      <td>We systematically investigate the electronic s...</td>\n",
       "      <td>Condensed Matter - Strongly Correlated Electrons</td>\n",
       "    </tr>\n",
       "    <tr>\n",
       "      <th>1</th>\n",
       "      <td>10.1016/j.jssc.2014.08.004</td>\n",
       "      <td>8.xml</td>\n",
       "      <td>Atomic partial charges are parameters of key i...</td>\n",
       "      <td>Condensed Matter - Materials Science</td>\n",
       "    </tr>\n",
       "    <tr>\n",
       "      <th>2</th>\n",
       "      <td>10.1016/S0039-6028(01)01214-6</td>\n",
       "      <td>15.xml</td>\n",
       "      <td>We present density-functional theory calculati...</td>\n",
       "      <td>Condensed Matter - Materials Science</td>\n",
       "    </tr>\n",
       "    <tr>\n",
       "      <th>3</th>\n",
       "      <td>10.1016/j.nimb.2006.12.036</td>\n",
       "      <td>17.xml</td>\n",
       "      <td>In this work we have studied systematically th...</td>\n",
       "      <td>Condensed Matter - Strongly Correlated Electrons</td>\n",
       "    </tr>\n",
       "    <tr>\n",
       "      <th>4</th>\n",
       "      <td>10.1016/j.jmmm.2008.07.002</td>\n",
       "      <td>21.xml</td>\n",
       "      <td>The isothermal magnetoresistance [R(?)] of [00...</td>\n",
       "      <td>Condensed Matter - Materials Science</td>\n",
       "    </tr>\n",
       "  </tbody>\n",
       "</table>\n",
       "</div>"
      ],
      "text/plain": [
       "                             DOI xml_name  \\\n",
       "0  10.1016/j.jnucmat.2011.08.041    7.xml   \n",
       "1     10.1016/j.jssc.2014.08.004    8.xml   \n",
       "2  10.1016/S0039-6028(01)01214-6   15.xml   \n",
       "3     10.1016/j.nimb.2006.12.036   17.xml   \n",
       "4     10.1016/j.jmmm.2008.07.002   21.xml   \n",
       "\n",
       "                                       Full_Document  \\\n",
       "0  We systematically investigate the electronic s...   \n",
       "1  Atomic partial charges are parameters of key i...   \n",
       "2  We present density-functional theory calculati...   \n",
       "3  In this work we have studied systematically th...   \n",
       "4  The isothermal magnetoresistance [R(?)] of [00...   \n",
       "\n",
       "                                         Categories  \n",
       "0  Condensed Matter - Strongly Correlated Electrons  \n",
       "1              Condensed Matter - Materials Science  \n",
       "2              Condensed Matter - Materials Science  \n",
       "3  Condensed Matter - Strongly Correlated Electrons  \n",
       "4              Condensed Matter - Materials Science  "
      ]
     },
     "execution_count": 25,
     "metadata": {},
     "output_type": "execute_result"
    }
   ],
   "source": [
    "df_full.head()"
   ]
  },
  {
   "cell_type": "code",
   "execution_count": null,
   "metadata": {},
   "outputs": [],
   "source": [
    "df_full.shape"
   ]
  },
  {
   "cell_type": "code",
   "execution_count": null,
   "metadata": {},
   "outputs": [],
   "source": [
    "df_full.Full_Document[1]"
   ]
  },
  {
   "cell_type": "code",
   "execution_count": 26,
   "metadata": {},
   "outputs": [],
   "source": [
    "df_full[[ 'Categories','DOI','Full_Document']].to_csv('FullDocument_4.csv', quoting=csv.QUOTE_NONE, index=False, escapechar='\\\\',sep ='\\t')"
   ]
  },
  {
   "cell_type": "markdown",
   "metadata": {},
   "source": [
    "# Per section"
   ]
  },
  {
   "cell_type": "code",
   "execution_count": null,
   "metadata": {},
   "outputs": [],
   "source": [
    "# def createDataframes(filename):\n",
    "#     '''\n",
    "#     Creates a Dataframe with sections as a json file \n",
    "#     and DOI and file name.\n",
    "#     '''\n",
    "    \n",
    "#     notIncludeSections = ['Graphical abstract','Highlights', 'Keywords','PACS','References','Acknowledgments']\n",
    "#     headers = ['DOI','xml_name','Sections']\n",
    "#     temp = []\n",
    "#     Sections = []\n",
    "#     flag = 0\n",
    "\n",
    "\n",
    "#     with open(filename,'r') as articles:\n",
    "\n",
    "#             reader = csv.reader(articles,delimiter='\\t')\n",
    "\n",
    "#             for count,row in enumerate(reader):\n",
    "\n",
    "#                 if len(row)>4:\n",
    "#                     data = dict()\n",
    "                    \n",
    "#                     for section in row[2:-1]:\n",
    "#                         result = section.split(' ================== ')\n",
    "\n",
    "#                         if  result[0] not in notIncludeSections: \n",
    "#                             data[result[0]] = result[1]\n",
    "#                         else: \n",
    "#                             continue\n",
    "\n",
    "#                     if len(data) == 0:\n",
    "#                         continue\n",
    "#                     else:\n",
    "#                         json_data = json.dumps(data)\n",
    "#                         Sections.append([row[0],row[1], json_data])\n",
    "\n",
    "#     yield pd.DataFrame(Sections, columns=headers)\n"
   ]
  },
  {
   "cell_type": "code",
   "execution_count": 16,
   "metadata": {},
   "outputs": [
    {
     "data": {
      "text/html": [
       "<div>\n",
       "<style scoped>\n",
       "    .dataframe tbody tr th:only-of-type {\n",
       "        vertical-align: middle;\n",
       "    }\n",
       "\n",
       "    .dataframe tbody tr th {\n",
       "        vertical-align: top;\n",
       "    }\n",
       "\n",
       "    .dataframe thead th {\n",
       "        text-align: right;\n",
       "    }\n",
       "</style>\n",
       "<table border=\"1\" class=\"dataframe\">\n",
       "  <thead>\n",
       "    <tr style=\"text-align: right;\">\n",
       "      <th></th>\n",
       "      <th>DOI</th>\n",
       "      <th>xml_name</th>\n",
       "      <th>Sections</th>\n",
       "      <th>Categories</th>\n",
       "    </tr>\n",
       "  </thead>\n",
       "  <tbody>\n",
       "    <tr>\n",
       "      <th>0</th>\n",
       "      <td>10.1016/j.jnucmat.2011.08.041</td>\n",
       "      <td>7.xml</td>\n",
       "      <td>{\"Electronic structure of ?-Pu2O3\": \"?-Pu2O3 i...</td>\n",
       "      <td>Condensed Matter - Strongly Correlated Electrons</td>\n",
       "    </tr>\n",
       "    <tr>\n",
       "      <th>1</th>\n",
       "      <td>10.1016/j.jssc.2014.08.004</td>\n",
       "      <td>8.xml</td>\n",
       "      <td>{\"Density derived electrostatic and chemical (...</td>\n",
       "      <td>Condensed Matter - Materials Science</td>\n",
       "    </tr>\n",
       "    <tr>\n",
       "      <th>2</th>\n",
       "      <td>10.1016/S0039-6028(01)01214-6</td>\n",
       "      <td>15.xml</td>\n",
       "      <td>{\"XPS fingerprinting of the oxidation sequence...</td>\n",
       "      <td>Condensed Matter - Materials Science</td>\n",
       "    </tr>\n",
       "    <tr>\n",
       "      <th>3</th>\n",
       "      <td>10.1016/j.nimb.2006.12.036</td>\n",
       "      <td>17.xml</td>\n",
       "      <td>{\"Broad irradiation\": \"The temperature depende...</td>\n",
       "      <td>Condensed Matter - Strongly Correlated Electrons</td>\n",
       "    </tr>\n",
       "    <tr>\n",
       "      <th>4</th>\n",
       "      <td>10.1016/j.jmmm.2008.07.002</td>\n",
       "      <td>21.xml</td>\n",
       "      <td>{\"Summary\": \"We have carried out a comparative...</td>\n",
       "      <td>Condensed Matter - Materials Science</td>\n",
       "    </tr>\n",
       "  </tbody>\n",
       "</table>\n",
       "</div>"
      ],
      "text/plain": [
       "                             DOI xml_name  \\\n",
       "0  10.1016/j.jnucmat.2011.08.041    7.xml   \n",
       "1     10.1016/j.jssc.2014.08.004    8.xml   \n",
       "2  10.1016/S0039-6028(01)01214-6   15.xml   \n",
       "3     10.1016/j.nimb.2006.12.036   17.xml   \n",
       "4     10.1016/j.jmmm.2008.07.002   21.xml   \n",
       "\n",
       "                                            Sections  \\\n",
       "0  {\"Electronic structure of ?-Pu2O3\": \"?-Pu2O3 i...   \n",
       "1  {\"Density derived electrostatic and chemical (...   \n",
       "2  {\"XPS fingerprinting of the oxidation sequence...   \n",
       "3  {\"Broad irradiation\": \"The temperature depende...   \n",
       "4  {\"Summary\": \"We have carried out a comparative...   \n",
       "\n",
       "                                         Categories  \n",
       "0  Condensed Matter - Strongly Correlated Electrons  \n",
       "1              Condensed Matter - Materials Science  \n",
       "2              Condensed Matter - Materials Science  \n",
       "3  Condensed Matter - Strongly Correlated Electrons  \n",
       "4              Condensed Matter - Materials Science  "
      ]
     },
     "execution_count": 16,
     "metadata": {},
     "output_type": "execute_result"
    }
   ],
   "source": [
    "df.head()"
   ]
  },
  {
   "cell_type": "code",
   "execution_count": 32,
   "metadata": {},
   "outputs": [
    {
     "data": {
      "text/html": [
       "<div>\n",
       "<style scoped>\n",
       "    .dataframe tbody tr th:only-of-type {\n",
       "        vertical-align: middle;\n",
       "    }\n",
       "\n",
       "    .dataframe tbody tr th {\n",
       "        vertical-align: top;\n",
       "    }\n",
       "\n",
       "    .dataframe thead th {\n",
       "        text-align: right;\n",
       "    }\n",
       "</style>\n",
       "<table border=\"1\" class=\"dataframe\">\n",
       "  <thead>\n",
       "    <tr style=\"text-align: right;\">\n",
       "      <th></th>\n",
       "      <th>doc_id</th>\n",
       "      <th>Category</th>\n",
       "      <th>DOI</th>\n",
       "      <th>Section</th>\n",
       "    </tr>\n",
       "  </thead>\n",
       "  <tbody>\n",
       "    <tr>\n",
       "      <th>0</th>\n",
       "      <td>0_0</td>\n",
       "      <td>Condensed Matter - Strongly Correlated Electrons</td>\n",
       "      <td>10.1016/j.jnucmat.2011.08.041</td>\n",
       "      <td>?-Pu2O3 in body-centered cubic structure can b...</td>\n",
       "    </tr>\n",
       "    <tr>\n",
       "      <th>1</th>\n",
       "      <td>0_1</td>\n",
       "      <td>Condensed Matter - Strongly Correlated Electrons</td>\n",
       "      <td>10.1016/j.jnucmat.2011.08.041</td>\n",
       "      <td>To know the thermodynamic properties from PuO2...</td>\n",
       "    </tr>\n",
       "    <tr>\n",
       "      <th>2</th>\n",
       "      <td>0_2</td>\n",
       "      <td>Condensed Matter - Strongly Correlated Electrons</td>\n",
       "      <td>10.1016/j.jnucmat.2011.08.041</td>\n",
       "      <td>Our first-principles calculations are based on...</td>\n",
       "    </tr>\n",
       "    <tr>\n",
       "      <th>3</th>\n",
       "      <td>0_3</td>\n",
       "      <td>Condensed Matter - Strongly Correlated Electrons</td>\n",
       "      <td>10.1016/j.jnucmat.2011.08.041</td>\n",
       "      <td>In order to investigate the electronic and str...</td>\n",
       "    </tr>\n",
       "    <tr>\n",
       "      <th>4</th>\n",
       "      <td>0_4</td>\n",
       "      <td>Condensed Matter - Strongly Correlated Electrons</td>\n",
       "      <td>10.1016/j.jnucmat.2011.08.041</td>\n",
       "      <td>In PuO2 and ?-Pu2O3, the ideal oxidation state...</td>\n",
       "    </tr>\n",
       "  </tbody>\n",
       "</table>\n",
       "</div>"
      ],
      "text/plain": [
       "  doc_id                                          Category  \\\n",
       "0    0_0  Condensed Matter - Strongly Correlated Electrons   \n",
       "1    0_1  Condensed Matter - Strongly Correlated Electrons   \n",
       "2    0_2  Condensed Matter - Strongly Correlated Electrons   \n",
       "3    0_3  Condensed Matter - Strongly Correlated Electrons   \n",
       "4    0_4  Condensed Matter - Strongly Correlated Electrons   \n",
       "\n",
       "                             DOI  \\\n",
       "0  10.1016/j.jnucmat.2011.08.041   \n",
       "1  10.1016/j.jnucmat.2011.08.041   \n",
       "2  10.1016/j.jnucmat.2011.08.041   \n",
       "3  10.1016/j.jnucmat.2011.08.041   \n",
       "4  10.1016/j.jnucmat.2011.08.041   \n",
       "\n",
       "                                             Section  \n",
       "0  ?-Pu2O3 in body-centered cubic structure can b...  \n",
       "1  To know the thermodynamic properties from PuO2...  \n",
       "2  Our first-principles calculations are based on...  \n",
       "3  In order to investigate the electronic and str...  \n",
       "4  In PuO2 and ?-Pu2O3, the ideal oxidation state...  "
      ]
     },
     "execution_count": 32,
     "metadata": {},
     "output_type": "execute_result"
    }
   ],
   "source": [
    "import json\n",
    "\n",
    "l = []\n",
    "headers = ['doc_id', 'Category','DOI', 'Section'] \n",
    "for index, row in df.iterrows():\n",
    "\n",
    "    js = json.loads(row.Sections)\n",
    "    for sec_id,i in enumerate(js.keys()):\n",
    "        \n",
    "        #Filter Out section containing small text length, might be parsed wrong\n",
    "        if len(js[i]) <100:\n",
    "            continue\n",
    "        else:\n",
    "            l.append([str(index)+'_'+str(sec_id), row.Categories,row.DOI, js[i]])\n",
    "\n",
    "test_df = pd.DataFrame(l, columns=headers)\n",
    "test_df.head()"
   ]
  },
  {
   "cell_type": "code",
   "execution_count": null,
   "metadata": {},
   "outputs": [],
   "source": []
  },
  {
   "cell_type": "code",
   "execution_count": null,
   "metadata": {},
   "outputs": [],
   "source": []
  },
  {
   "cell_type": "code",
   "execution_count": null,
   "metadata": {},
   "outputs": [],
   "source": []
  },
  {
   "cell_type": "code",
   "execution_count": 33,
   "metadata": {},
   "outputs": [
    {
     "data": {
      "text/plain": [
       "(71553, 4)"
      ]
     },
     "execution_count": 33,
     "metadata": {},
     "output_type": "execute_result"
    }
   ],
   "source": [
    "test_df.shape"
   ]
  },
  {
   "cell_type": "code",
   "execution_count": null,
   "metadata": {},
   "outputs": [],
   "source": [
    "test_df.head(15)"
   ]
  },
  {
   "cell_type": "code",
   "execution_count": 34,
   "metadata": {},
   "outputs": [],
   "source": [
    "test_df.to_csv('perSection_4_1.csv', quoting=csv.QUOTE_NONE, index=False, escapechar='\\\\',sep ='\\t')"
   ]
  },
  {
   "cell_type": "markdown",
   "metadata": {},
   "source": [
    "# Training -Test set create per Section"
   ]
  },
  {
   "cell_type": "code",
   "execution_count": null,
   "metadata": {},
   "outputs": [],
   "source": [
    "from sklearn.cross_validation import train_test_split\n",
    "\n"
   ]
  },
  {
   "cell_type": "code",
   "execution_count": null,
   "metadata": {},
   "outputs": [],
   "source": [
    "import pandas as pd\n",
    "\n",
    "df = pd.read_csv('Sections_2.csv',sep='\\t')\n",
    "df.head()"
   ]
  },
  {
   "cell_type": "code",
   "execution_count": null,
   "metadata": {},
   "outputs": [],
   "source": [
    "import numpy as np\n",
    "\n",
    "msk = np.random.rand(len(df)) < 0.8\n",
    "\n",
    "\n",
    "train = df[msk]\n",
    "test = df[~msk]\n",
    "\n",
    "print(train.shape)\n",
    "print(test.shape)"
   ]
  },
  {
   "cell_type": "code",
   "execution_count": null,
   "metadata": {},
   "outputs": [],
   "source": [
    "import json\n",
    "\n",
    "def splitSections(datFrame):\n",
    "    l = []\n",
    "    headers = ['doc_id', 'Category','DOI', 'Section'] \n",
    "    for index, row in datFrame.iterrows():\n",
    "        try:\n",
    "            js = json.loads(row.Sections)\n",
    "            for sec_id,i in enumerate(js.keys()):\n",
    "\n",
    "                l.append([str(index)+'_'+str(sec_id), row.Categories,row.DOI, js[i]])\n",
    "        except:\n",
    "\n",
    "            continue\n",
    "\n",
    "    return pd.DataFrame(l, columns=headers)"
   ]
  },
  {
   "cell_type": "code",
   "execution_count": null,
   "metadata": {},
   "outputs": [],
   "source": [
    "df_train = splitSections(train)\n",
    "df_train.shape"
   ]
  },
  {
   "cell_type": "code",
   "execution_count": null,
   "metadata": {},
   "outputs": [],
   "source": [
    "df_train.head()"
   ]
  },
  {
   "cell_type": "code",
   "execution_count": null,
   "metadata": {},
   "outputs": [],
   "source": [
    "df_test = splitSections(test)\n",
    "df_test.shape"
   ]
  },
  {
   "cell_type": "code",
   "execution_count": null,
   "metadata": {},
   "outputs": [],
   "source": [
    "import csv\n",
    "\n",
    "df_train[[ 'doc_id','Category','DOI','Section']].to_csv('Train_Sections.csv', quoting=csv.QUOTE_NONE, index=False, escapechar='\\\\',sep ='\\t')"
   ]
  },
  {
   "cell_type": "code",
   "execution_count": null,
   "metadata": {},
   "outputs": [],
   "source": [
    "df_test[[ 'doc_id','Category','DOI','Section']].to_csv('Test_Sections.csv', quoting=csv.QUOTE_NONE, index=False, escapechar='\\\\',sep ='\\t')"
   ]
  },
  {
   "cell_type": "markdown",
   "metadata": {},
   "source": [
    "# Majority Vote"
   ]
  },
  {
   "cell_type": "code",
   "execution_count": null,
   "metadata": {},
   "outputs": [],
   "source": [
    "df_te = pd.DataFrame( {'a':['A','A','B','B','B','C'], 'b':[1,2,5,5,4,6]})\n",
    "df_te"
   ]
  },
  {
   "cell_type": "code",
   "execution_count": null,
   "metadata": {},
   "outputs": [],
   "source": [
    "test_doc = [['id_1',1,'Section_1' ],\n",
    "           ['id_1',1, 'Section_2'],\n",
    "           ['id_1',0, 'Section_3'],\n",
    "           ['id_1',2, 'Section_4'],\n",
    "           ['id_1',1, 'Section_5'],\n",
    "           ['id_1',0, 'Section_6'],\n",
    "           ['id_2',1,'Section_1' ],\n",
    "           ['id_2',1, 'Section_2'],\n",
    "           ['id_2',0, 'Section_3'],\n",
    "           ['id_2',0, 'Section_4'],\n",
    "           ['id_2',0, 'Section_5'],\n",
    "           ['id_2',0, 'Section_6'] ]\n",
    "\n",
    "headers = ['doc_id', 'Category', 'Section'] \n",
    "\n",
    "\n",
    "df = pd.DataFrame(test_doc, columns=headers)\n",
    "# df.doc_id.unique()\n",
    "df"
   ]
  },
  {
   "cell_type": "code",
   "execution_count": null,
   "metadata": {},
   "outputs": [],
   "source": [
    "df.to_csv('dummy_data.csv',index = False)"
   ]
  },
  {
   "cell_type": "code",
   "execution_count": null,
   "metadata": {},
   "outputs": [],
   "source": [
    "def dataframe_for_majorityVote(datFrame):\n",
    "    '''\n",
    "    Transforms the dataframe for \n",
    "    majority vote function. \n",
    "    '''\n",
    "#     df.doc_id.unique()\n",
    "    \n",
    "    \n",
    "    return datFrame.groupby('doc_id')['Category'].apply(list)\n",
    "    \n"
   ]
  },
  {
   "cell_type": "code",
   "execution_count": null,
   "metadata": {},
   "outputs": [],
   "source": [
    "mV = pd.DataFrame(dataframe_for_majorityVote(df)).reset_index()"
   ]
  },
  {
   "cell_type": "code",
   "execution_count": null,
   "metadata": {},
   "outputs": [],
   "source": [
    "mV"
   ]
  },
  {
   "cell_type": "code",
   "execution_count": null,
   "metadata": {},
   "outputs": [],
   "source": [
    "def majority_vote(votes):\n",
    "    '''\n",
    "    xxx\n",
    "    '''\n",
    "    \n",
    "    vote_counts ={}\n",
    "    for vote in votes:\n",
    "        if vote in vote_counts:\n",
    "            vote_counts[vote]+=1\n",
    "        else:\n",
    "            vote_counts[vote] = 1\n",
    "    print(vote_counts.values())\n",
    "    return max(vote_counts, key=vote_counts.get)\n",
    "    \n",
    "    "
   ]
  },
  {
   "cell_type": "code",
   "execution_count": null,
   "metadata": {},
   "outputs": [],
   "source": [
    "mV['Predicted'] = mV['Category'].apply(majority_vote)\n",
    "mV"
   ]
  },
  {
   "cell_type": "code",
   "execution_count": 30,
   "metadata": {},
   "outputs": [],
   "source": [
    "t = 'Supplementary data'\n"
   ]
  },
  {
   "cell_type": "code",
   "execution_count": 31,
   "metadata": {},
   "outputs": [
    {
     "data": {
      "text/plain": [
       "False"
      ]
     },
     "execution_count": 31,
     "metadata": {},
     "output_type": "execute_result"
    }
   ],
   "source": [
    "len(t)>100"
   ]
  },
  {
   "cell_type": "code",
   "execution_count": 35,
   "metadata": {},
   "outputs": [
    {
     "data": {
      "text/plain": [
       "127"
      ]
     },
     "execution_count": 35,
     "metadata": {},
     "output_type": "execute_result"
    }
   ],
   "source": [
    "ta = 'The second author gratefully acknowledges the support of project AVOZ10100520 of the Academy of Sciences of the Czech Republic.'\n",
    "\n",
    "len(ta)"
   ]
  },
  {
   "cell_type": "markdown",
   "metadata": {},
   "source": [
    "# 4 Feature Build"
   ]
  },
  {
   "cell_type": "code",
   "execution_count": 127,
   "metadata": {},
   "outputs": [
    {
     "name": "stdout",
     "output_type": "stream",
     "text": [
      "['Experimental details', 'Systems preparation and characterization', 'Acknowledgements', 'STS and DFT of gr/O/Ru(0001)', 'Results and discussions', 'ARPES and DFT of gr/Ir(111) and gr/Cu/Ir(111)', 'Conclusions']\n",
      "Conclusions\n",
      "['Experimental details', 'Systems preparation and characterization', 'Acknowledgements', 'STS and DFT of gr/O/Ru(0001)', 'Results and discussions', 'ARPES and DFT of gr/Ir(111) and gr/Cu/Ir(111)', 'Conclusions']\n"
     ]
    },
    {
     "data": {
      "text/html": [
       "<div>\n",
       "<style scoped>\n",
       "    .dataframe tbody tr th:only-of-type {\n",
       "        vertical-align: middle;\n",
       "    }\n",
       "\n",
       "    .dataframe tbody tr th {\n",
       "        vertical-align: top;\n",
       "    }\n",
       "\n",
       "    .dataframe thead th {\n",
       "        text-align: right;\n",
       "    }\n",
       "</style>\n",
       "<table border=\"1\" class=\"dataframe\">\n",
       "  <thead>\n",
       "    <tr style=\"text-align: right;\">\n",
       "      <th></th>\n",
       "      <th>doc_id</th>\n",
       "      <th>Section</th>\n",
       "      <th>Sec_Name</th>\n",
       "    </tr>\n",
       "  </thead>\n",
       "  <tbody>\n",
       "    <tr>\n",
       "      <th>0</th>\n",
       "      <td>0_0</td>\n",
       "      <td>Intercalation of different species under graph...</td>\n",
       "      <td>Abstract</td>\n",
       "    </tr>\n",
       "    <tr>\n",
       "      <th>1</th>\n",
       "      <td>0_1</td>\n",
       "      <td>Intercalation compounds on the basis of differ...</td>\n",
       "      <td>Introduction</td>\n",
       "    </tr>\n",
       "    <tr>\n",
       "      <th>2</th>\n",
       "      <td>0_2</td>\n",
       "      <td>In the present manuscript we demonstrate the s...</td>\n",
       "      <td>Conclusions</td>\n",
       "    </tr>\n",
       "    <tr>\n",
       "      <th>3</th>\n",
       "      <td>0_3</td>\n",
       "      <td>Graphene in both experiments was prepared on h...</td>\n",
       "      <td>In_Between</td>\n",
       "    </tr>\n",
       "  </tbody>\n",
       "</table>\n",
       "</div>"
      ],
      "text/plain": [
       "  doc_id                                            Section      Sec_Name\n",
       "0    0_0  Intercalation of different species under graph...      Abstract\n",
       "1    0_1  Intercalation compounds on the basis of differ...  Introduction\n",
       "2    0_2  In the present manuscript we demonstrate the s...   Conclusions\n",
       "3    0_3  Graphene in both experiments was prepared on h...    In_Between"
      ]
     },
     "execution_count": 127,
     "metadata": {},
     "output_type": "execute_result"
    }
   ],
   "source": [
    "l = []\n",
    "flag = 0\n",
    "index = 0\n",
    "sec = ['Experimental details',\n",
    " 'Systems preparation and characterization',\n",
    " 'Introduction',\n",
    " 'Acknowledgements',\n",
    " 'Abstract',\n",
    " 'STS and DFT of gr/O/Ru(0001)',\n",
    " 'Results and discussions',\n",
    " 'ARPES and DFT of gr/Ir(111) and gr/Cu/Ir(111)',\n",
    " 'Conclusions']\n",
    "\n",
    "if (str('Abstract') in sec) and (str('Introduction') in sec):\n",
    "    \n",
    "    sec.remove('Abstract')\n",
    "    sec.remove('Introduction')\n",
    "    \n",
    "    l.append([str(index)+'_'+str(flag), try_js_sec['Abstract'], 'Abstract'])\n",
    "    flag += 1\n",
    "    l.append([str(index)+'_'+str(flag), try_js_sec['Introduction'], 'Introduction'])\n",
    "    flag += 1\n",
    "    print(sec)\n",
    "    \n",
    "else:\n",
    "    pass\n",
    "\n",
    "\n",
    "conlu_sections=['Conclusions','Conclusion' ,\"Discussion and conclusion\", 'Concluding remarks',\\\n",
    "                'Results and discussion','Results and discussions','Summary and discussion', \\\n",
    "                'Summary and discussions', 'Numerical performance and concluding discussion',\\\n",
    "                'Concluding remarks', 'Discussion', 'Discussions', 'Summary']\n",
    "\n",
    "for i in conlu_sections:\n",
    "    print(i)\n",
    "    if i in sec:\n",
    "        print(sec)\n",
    "        l.append([str(index)+'_'+str(flag), try_js_sec[i], 'Conclusions'])\n",
    "        flag += 1\n",
    "        break\n",
    "        \n",
    "\n",
    "#IN-BETWEEN    \n",
    "text = str()  \n",
    "for s in sec:\n",
    "    \n",
    "    text+= try_js_sec[s]\n",
    "    \n",
    "    \n",
    "l.append([str(index)+'_'+str(flag), text, 'In_Between']) \n",
    "\n",
    "\n",
    "headers = ['doc_id', 'Section', 'Sec_Name'] \n",
    "test_df = pd.DataFrame(l, columns=headers)\n",
    "test_df.head()"
   ]
  },
  {
   "cell_type": "code",
   "execution_count": null,
   "metadata": {},
   "outputs": [],
   "source": []
  }
 ],
 "metadata": {
  "kernelspec": {
   "display_name": "Python [conda env:Sklearn]",
   "language": "python",
   "name": "conda-env-Sklearn-py"
  },
  "language_info": {
   "codemirror_mode": {
    "name": "ipython",
    "version": 3
   },
   "file_extension": ".py",
   "mimetype": "text/x-python",
   "name": "python",
   "nbconvert_exporter": "python",
   "pygments_lexer": "ipython3",
   "version": "3.5.5"
  }
 },
 "nbformat": 4,
 "nbformat_minor": 2
}
