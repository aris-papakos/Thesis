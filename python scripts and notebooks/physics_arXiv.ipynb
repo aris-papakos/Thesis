{
 "cells": [
  {
   "cell_type": "code",
   "execution_count": 25,
   "metadata": {},
   "outputs": [],
   "source": [
    "# from bs4 import BeautifulSoup\n",
    "import bs4 as bs\n",
    "import pandas as pd\n",
    "import glob\n",
    "import pprint\n",
    "\n",
    "\n",
    "def createUrl(url):\n",
    "    '''\n",
    "    Reconstructs the url for downloading the paper\n",
    "    '''\n",
    "    \n",
    "    temp = ''\n",
    "    for i in url[7:].split('/'):\n",
    "        if i =='abs':\n",
    "            temp+='/'+'pdf'\n",
    "            continue\n",
    "        temp+='/'+i\n",
    "    temp+='.pdf'\n",
    "    return url[:6]+temp\n",
    "    \n",
    "\n",
    "\n",
    "\n",
    "def DOI_extract(identifiers):\n",
    "    '''\n",
    "    Extract DOI reference from metadata\n",
    "    '''\n",
    "    if identifiers==[]:\n",
    "        return float('nan')\n",
    "\n",
    "    for link in identifiers:\n",
    "        \n",
    "        if link.text[:4] == 'doi:':\n",
    "            return link.text[4:]\n",
    "#             return link.text\n",
    "    \n",
    "    return float('nan')\n",
    "\n",
    "\n",
    "\n",
    "def link_extract(identifiers):\n",
    "    '''\n",
    "    Extract link reference for pdf\n",
    "    '''\n",
    "    \n",
    "    if identifiers==[]:\n",
    "        return float('nan')\n",
    "\n",
    "    for link in identifiers:\n",
    "\n",
    "        if link.text[:5] == 'http:':\n",
    "    #             return link.text[4:]\n",
    "            #return link.text\n",
    "            return createUrl(link.text)\n",
    "    return float('nan')\n",
    "\n",
    "\n",
    "\n",
    "\n",
    "\n",
    "\n",
    "def journal_extract(identifiers):\n",
    "    '''\n",
    "    Extract Journal reference from metadata\n",
    "    '''\n",
    "    if identifiers==[]:\n",
    "        return float('nan')\n",
    "\n",
    "    for link in identifiers:\n",
    "        if link.text[:4] != 'doi:' and link.text[:5] != 'http:':\n",
    "                return link.text\n",
    "        \n",
    "\n",
    "    return float('nan')\n",
    "\n",
    "\n",
    "\n",
    "\n",
    "\n",
    "def fields_of_interest(soup, oneCategory=True):\n",
    "    '''\n",
    "    Gathers xml tags of interest from arxiv\n",
    "    '''\n",
    "    fields = []\n",
    "    ident = soup.find_all('dc:identifier') #all the 'identifier' tags\n",
    "    \n",
    "    \n",
    "    fields.append(DOI_extract(ident)) #DOI \n",
    "    \n",
    "#     fields.append(link_extract(ident)) #link\n",
    "    \n",
    "#     fields.append(journal_extract(ident))\n",
    "    \n",
    "    try:\n",
    "        fields.append(soup.find_all('dc:title')[0].text)\n",
    "    except:\n",
    "         fields.append(float('nan'))\n",
    "    \n",
    "#################### UNCOMMNENT FOR COLLECTING THE SUMMARY #######################    \n",
    "#     try:\n",
    "#         fields.append(soup.find_all('dc:description')[0].text)\n",
    "#     except:\n",
    "#          fields.append(float('nan'))\n",
    "    \n",
    "    \n",
    "    if oneCategory:\n",
    "        \n",
    "        try:\n",
    "            fields.append(soup.find_all('dc:subject')[0].text.split(' - ')[0])\n",
    "        except:\n",
    "            fields.append(float('nan'))\n",
    "    else:\n",
    "\n",
    "        try:\n",
    "            fields.append(soup.find_all('dc:subject')[0].text)\n",
    "        except:\n",
    "             fields.append(float('nan'))\n",
    "    \n",
    "    return fields\n",
    "\n",
    "\n",
    "\n",
    "\n",
    "\n",
    "# if __name__ == '__main__':\n",
    "info = []\n",
    "for name in glob.glob('Mathematics_arXiv\\*'):\n",
    "\n",
    "    soup = bs.BeautifulSoup(open(name), \"lxml-xml\")\n",
    "\n",
    "#     pprint.pprint(fields_of_interest(soup))\n",
    "    info.append(fields_of_interest(soup,False))\n",
    "\n",
    "#df = pd.DataFrame(info,columns=['DOI', 'Journal', 'title','Abstract','Categories']) \n",
    "df2 = pd.DataFrame(info,columns=['DOI', 'title','Categories'])\n"
   ]
  },
  {
   "cell_type": "code",
   "execution_count": 26,
   "metadata": {},
   "outputs": [
    {
     "data": {
      "text/plain": [
       "(366734, 3)"
      ]
     },
     "execution_count": 26,
     "metadata": {},
     "output_type": "execute_result"
    }
   ],
   "source": [
    "df2.shape"
   ]
  },
  {
   "cell_type": "code",
   "execution_count": 27,
   "metadata": {},
   "outputs": [
    {
     "data": {
      "text/html": [
       "<div>\n",
       "<style scoped>\n",
       "    .dataframe tbody tr th:only-of-type {\n",
       "        vertical-align: middle;\n",
       "    }\n",
       "\n",
       "    .dataframe tbody tr th {\n",
       "        vertical-align: top;\n",
       "    }\n",
       "\n",
       "    .dataframe thead th {\n",
       "        text-align: right;\n",
       "    }\n",
       "</style>\n",
       "<table border=\"1\" class=\"dataframe\">\n",
       "  <thead>\n",
       "    <tr style=\"text-align: right;\">\n",
       "      <th></th>\n",
       "      <th>DOI</th>\n",
       "      <th>title</th>\n",
       "      <th>Categories</th>\n",
       "    </tr>\n",
       "  </thead>\n",
       "  <tbody>\n",
       "    <tr>\n",
       "      <th>0</th>\n",
       "      <td>NaN</td>\n",
       "      <td>Sparsity-certifying Graph Decompositions</td>\n",
       "      <td>Mathematics - Combinatorics</td>\n",
       "    </tr>\n",
       "    <tr>\n",
       "      <th>1</th>\n",
       "      <td>NaN</td>\n",
       "      <td>A determinant of Stirling cycle numbers counts...</td>\n",
       "      <td>Mathematics - Combinatorics</td>\n",
       "    </tr>\n",
       "    <tr>\n",
       "      <th>2</th>\n",
       "      <td>NaN</td>\n",
       "      <td>From dyadic $\\Lambda_{\\alpha}$ to $\\Lambda_{\\a...</td>\n",
       "      <td>Mathematics - Classical Analysis and ODEs</td>\n",
       "    </tr>\n",
       "    <tr>\n",
       "      <th>3</th>\n",
       "      <td>NaN</td>\n",
       "      <td>Partial cubes: structures, characterizations, ...</td>\n",
       "      <td>Mathematics - Combinatorics</td>\n",
       "    </tr>\n",
       "    <tr>\n",
       "      <th>4</th>\n",
       "      <td>NaN</td>\n",
       "      <td>Computing genus 2 Hilbert-Siegel modular forms...</td>\n",
       "      <td>Mathematics - Number Theory</td>\n",
       "    </tr>\n",
       "    <tr>\n",
       "      <th>5</th>\n",
       "      <td>NaN</td>\n",
       "      <td>Distribution of integral Fourier Coefficients ...</td>\n",
       "      <td>Mathematics - Number Theory</td>\n",
       "    </tr>\n",
       "    <tr>\n",
       "      <th>6</th>\n",
       "      <td>NaN</td>\n",
       "      <td>$p$-adic Limit of Weakly Holomorphic Modular F...</td>\n",
       "      <td>Mathematics - Number Theory</td>\n",
       "    </tr>\n",
       "    <tr>\n",
       "      <th>7</th>\n",
       "      <td>NaN</td>\n",
       "      <td>Iterated integral and the loop product</td>\n",
       "      <td>Mathematics - Classical Analysis and ODEs</td>\n",
       "    </tr>\n",
       "    <tr>\n",
       "      <th>8</th>\n",
       "      <td>NaN</td>\n",
       "      <td>Approximation for extinction probability of th...</td>\n",
       "      <td>Mathematics - Probability</td>\n",
       "    </tr>\n",
       "    <tr>\n",
       "      <th>9</th>\n",
       "      <td>NaN</td>\n",
       "      <td>Stochastic Lie group integrators</td>\n",
       "      <td>Mathematics - Numerical Analysis</td>\n",
       "    </tr>\n",
       "    <tr>\n",
       "      <th>10</th>\n",
       "      <td>NaN</td>\n",
       "      <td>Placeholder Substructures II: Meta-Fractals, M...</td>\n",
       "      <td>Mathematics - Rings and Algebras</td>\n",
       "    </tr>\n",
       "    <tr>\n",
       "      <th>11</th>\n",
       "      <td>NaN</td>\n",
       "      <td>Pfaffians, hafnians and products of real linea...</td>\n",
       "      <td>Mathematics - Classical Analysis and ODEs</td>\n",
       "    </tr>\n",
       "    <tr>\n",
       "      <th>12</th>\n",
       "      <td>NaN</td>\n",
       "      <td>Multilinear function series in conditionally f...</td>\n",
       "      <td>Mathematics - Operator Algebras</td>\n",
       "    </tr>\n",
       "    <tr>\n",
       "      <th>13</th>\n",
       "      <td>10.1007/s00220-008-0461-1</td>\n",
       "      <td>Quantum Group of Isometries in Classical and N...</td>\n",
       "      <td>Mathematics - Quantum Algebra</td>\n",
       "    </tr>\n",
       "    <tr>\n",
       "      <th>14</th>\n",
       "      <td>10.1063/1.2779138</td>\n",
       "      <td>A limit relation for entropy and channel capac...</td>\n",
       "      <td>Quantum Physics</td>\n",
       "    </tr>\n",
       "  </tbody>\n",
       "</table>\n",
       "</div>"
      ],
      "text/plain": [
       "                          DOI  \\\n",
       "0                         NaN   \n",
       "1                         NaN   \n",
       "2                         NaN   \n",
       "3                         NaN   \n",
       "4                         NaN   \n",
       "5                         NaN   \n",
       "6                         NaN   \n",
       "7                         NaN   \n",
       "8                         NaN   \n",
       "9                         NaN   \n",
       "10                        NaN   \n",
       "11                        NaN   \n",
       "12                        NaN   \n",
       "13  10.1007/s00220-008-0461-1   \n",
       "14          10.1063/1.2779138   \n",
       "\n",
       "                                                title  \\\n",
       "0            Sparsity-certifying Graph Decompositions   \n",
       "1   A determinant of Stirling cycle numbers counts...   \n",
       "2   From dyadic $\\Lambda_{\\alpha}$ to $\\Lambda_{\\a...   \n",
       "3   Partial cubes: structures, characterizations, ...   \n",
       "4   Computing genus 2 Hilbert-Siegel modular forms...   \n",
       "5   Distribution of integral Fourier Coefficients ...   \n",
       "6   $p$-adic Limit of Weakly Holomorphic Modular F...   \n",
       "7              Iterated integral and the loop product   \n",
       "8   Approximation for extinction probability of th...   \n",
       "9                    Stochastic Lie group integrators   \n",
       "10  Placeholder Substructures II: Meta-Fractals, M...   \n",
       "11  Pfaffians, hafnians and products of real linea...   \n",
       "12  Multilinear function series in conditionally f...   \n",
       "13  Quantum Group of Isometries in Classical and N...   \n",
       "14  A limit relation for entropy and channel capac...   \n",
       "\n",
       "                                   Categories  \n",
       "0                 Mathematics - Combinatorics  \n",
       "1                 Mathematics - Combinatorics  \n",
       "2   Mathematics - Classical Analysis and ODEs  \n",
       "3                 Mathematics - Combinatorics  \n",
       "4                 Mathematics - Number Theory  \n",
       "5                 Mathematics - Number Theory  \n",
       "6                 Mathematics - Number Theory  \n",
       "7   Mathematics - Classical Analysis and ODEs  \n",
       "8                   Mathematics - Probability  \n",
       "9            Mathematics - Numerical Analysis  \n",
       "10           Mathematics - Rings and Algebras  \n",
       "11  Mathematics - Classical Analysis and ODEs  \n",
       "12            Mathematics - Operator Algebras  \n",
       "13              Mathematics - Quantum Algebra  \n",
       "14                            Quantum Physics  "
      ]
     },
     "execution_count": 27,
     "metadata": {},
     "output_type": "execute_result"
    }
   ],
   "source": [
    "df2.head(15)"
   ]
  },
  {
   "cell_type": "code",
   "execution_count": 4,
   "metadata": {},
   "outputs": [
    {
     "data": {
      "text/plain": [
       "(288436, 3)"
      ]
     },
     "execution_count": 4,
     "metadata": {},
     "output_type": "execute_result"
    }
   ],
   "source": [
    "df2.shape"
   ]
  },
  {
   "cell_type": "code",
   "execution_count": 8,
   "metadata": {},
   "outputs": [],
   "source": [
    "import seaborn as sns\n",
    "%matplotlib inline\n"
   ]
  },
  {
   "cell_type": "code",
   "execution_count": 28,
   "metadata": {},
   "outputs": [
    {
     "data": {
      "text/plain": [
       "<matplotlib.axes._subplots.AxesSubplot at 0x21f8ff4b0b8>"
      ]
     },
     "execution_count": 28,
     "metadata": {},
     "output_type": "execute_result"
    },
    {
     "data": {
      "image/png": "[encoded data removed]",
      "text/plain": [
       "<Figure size 432x288 with 1 Axes>"
      ]
     },
     "metadata": {},
     "output_type": "display_data"
    }
   ],
   "source": [
    "sns.heatmap(df2.isnull(), yticklabels=False, cbar=False, cmap='viridis')"
   ]
  },
  {
   "cell_type": "code",
   "execution_count": 29,
   "metadata": {},
   "outputs": [
    {
     "data": {
      "text/plain": [
       "(84258, 3)"
      ]
     },
     "execution_count": 29,
     "metadata": {},
     "output_type": "execute_result"
    }
   ],
   "source": [
    "df2.dropna().shape"
   ]
  },
  {
   "cell_type": "code",
   "execution_count": 30,
   "metadata": {},
   "outputs": [],
   "source": [
    "df4 = df2.dropna()\n",
    "df4.to_csv(\"final_mathematics_366734.csv\",index=False)"
   ]
  },
  {
   "cell_type": "code",
   "execution_count": 31,
   "metadata": {},
   "outputs": [
    {
     "ename": "KeyboardInterrupt",
     "evalue": "",
     "output_type": "error",
     "traceback": [
      "\u001b[1;31m---------------------------------------------------------------------------\u001b[0m",
      "\u001b[1;31mKeyboardInterrupt\u001b[0m                         Traceback (most recent call last)",
      "\u001b[1;32m<ipython-input-31-2ea01683a685>\u001b[0m in \u001b[0;36m<module>\u001b[1;34m()\u001b[0m\n\u001b[1;32m----> 1\u001b[1;33m \u001b[0mdf2\u001b[0m\u001b[1;33m.\u001b[0m\u001b[0mto_csv\u001b[0m\u001b[1;33m(\u001b[0m\u001b[1;34m\"final_mathematics_288436.csv\"\u001b[0m\u001b[1;33m,\u001b[0m\u001b[0mindex\u001b[0m\u001b[1;33m=\u001b[0m\u001b[1;32mFalse\u001b[0m\u001b[1;33m)\u001b[0m\u001b[1;33m\u001b[0m\u001b[0m\n\u001b[0m",
      "\u001b[1;32mC:\\ProgramData\\Anaconda3\\envs\\Sklearn\\lib\\site-packages\\pandas\\core\\frame.py\u001b[0m in \u001b[0;36mto_csv\u001b[1;34m(self, path_or_buf, sep, na_rep, float_format, columns, header, index, index_label, mode, encoding, compression, quoting, quotechar, line_terminator, chunksize, tupleize_cols, date_format, doublequote, escapechar, decimal)\u001b[0m\n\u001b[0;32m   1522\u001b[0m                                      \u001b[0mdoublequote\u001b[0m\u001b[1;33m=\u001b[0m\u001b[0mdoublequote\u001b[0m\u001b[1;33m,\u001b[0m\u001b[1;33m\u001b[0m\u001b[0m\n\u001b[0;32m   1523\u001b[0m                                      escapechar=escapechar, decimal=decimal)\n\u001b[1;32m-> 1524\u001b[1;33m         \u001b[0mformatter\u001b[0m\u001b[1;33m.\u001b[0m\u001b[0msave\u001b[0m\u001b[1;33m(\u001b[0m\u001b[1;33m)\u001b[0m\u001b[1;33m\u001b[0m\u001b[0m\n\u001b[0m\u001b[0;32m   1525\u001b[0m \u001b[1;33m\u001b[0m\u001b[0m\n\u001b[0;32m   1526\u001b[0m         \u001b[1;32mif\u001b[0m \u001b[0mpath_or_buf\u001b[0m \u001b[1;32mis\u001b[0m \u001b[1;32mNone\u001b[0m\u001b[1;33m:\u001b[0m\u001b[1;33m\u001b[0m\u001b[0m\n",
      "\u001b[1;32mC:\\ProgramData\\Anaconda3\\envs\\Sklearn\\lib\\site-packages\\pandas\\io\\formats\\format.py\u001b[0m in \u001b[0;36msave\u001b[1;34m(self)\u001b[0m\n\u001b[0;32m   1650\u001b[0m                 \u001b[0mself\u001b[0m\u001b[1;33m.\u001b[0m\u001b[0mwriter\u001b[0m \u001b[1;33m=\u001b[0m \u001b[0mUnicodeWriter\u001b[0m\u001b[1;33m(\u001b[0m\u001b[0mf\u001b[0m\u001b[1;33m,\u001b[0m \u001b[1;33m**\u001b[0m\u001b[0mwriter_kwargs\u001b[0m\u001b[1;33m)\u001b[0m\u001b[1;33m\u001b[0m\u001b[0m\n\u001b[0;32m   1651\u001b[0m \u001b[1;33m\u001b[0m\u001b[0m\n\u001b[1;32m-> 1652\u001b[1;33m             \u001b[0mself\u001b[0m\u001b[1;33m.\u001b[0m\u001b[0m_save\u001b[0m\u001b[1;33m(\u001b[0m\u001b[1;33m)\u001b[0m\u001b[1;33m\u001b[0m\u001b[0m\n\u001b[0m\u001b[0;32m   1653\u001b[0m \u001b[1;33m\u001b[0m\u001b[0m\n\u001b[0;32m   1654\u001b[0m         \u001b[1;32mfinally\u001b[0m\u001b[1;33m:\u001b[0m\u001b[1;33m\u001b[0m\u001b[0m\n",
      "\u001b[1;32mC:\\ProgramData\\Anaconda3\\envs\\Sklearn\\lib\\site-packages\\pandas\\io\\formats\\format.py\u001b[0m in \u001b[0;36m_save\u001b[1;34m(self)\u001b[0m\n\u001b[0;32m   1752\u001b[0m                 \u001b[1;32mbreak\u001b[0m\u001b[1;33m\u001b[0m\u001b[0m\n\u001b[0;32m   1753\u001b[0m \u001b[1;33m\u001b[0m\u001b[0m\n\u001b[1;32m-> 1754\u001b[1;33m             \u001b[0mself\u001b[0m\u001b[1;33m.\u001b[0m\u001b[0m_save_chunk\u001b[0m\u001b[1;33m(\u001b[0m\u001b[0mstart_i\u001b[0m\u001b[1;33m,\u001b[0m \u001b[0mend_i\u001b[0m\u001b[1;33m)\u001b[0m\u001b[1;33m\u001b[0m\u001b[0m\n\u001b[0m\u001b[0;32m   1755\u001b[0m \u001b[1;33m\u001b[0m\u001b[0m\n\u001b[0;32m   1756\u001b[0m     \u001b[1;32mdef\u001b[0m \u001b[0m_save_chunk\u001b[0m\u001b[1;33m(\u001b[0m\u001b[0mself\u001b[0m\u001b[1;33m,\u001b[0m \u001b[0mstart_i\u001b[0m\u001b[1;33m,\u001b[0m \u001b[0mend_i\u001b[0m\u001b[1;33m)\u001b[0m\u001b[1;33m:\u001b[0m\u001b[1;33m\u001b[0m\u001b[0m\n",
      "\u001b[1;32mC:\\ProgramData\\Anaconda3\\envs\\Sklearn\\lib\\site-packages\\pandas\\io\\formats\\format.py\u001b[0m in \u001b[0;36m_save_chunk\u001b[1;34m(self, start_i, end_i)\u001b[0m\n\u001b[0;32m   1778\u001b[0m                                         quoting=self.quoting)\n\u001b[0;32m   1779\u001b[0m \u001b[1;33m\u001b[0m\u001b[0m\n\u001b[1;32m-> 1780\u001b[1;33m         \u001b[0mlib\u001b[0m\u001b[1;33m.\u001b[0m\u001b[0mwrite_csv_rows\u001b[0m\u001b[1;33m(\u001b[0m\u001b[0mself\u001b[0m\u001b[1;33m.\u001b[0m\u001b[0mdata\u001b[0m\u001b[1;33m,\u001b[0m \u001b[0mix\u001b[0m\u001b[1;33m,\u001b[0m \u001b[0mself\u001b[0m\u001b[1;33m.\u001b[0m\u001b[0mnlevels\u001b[0m\u001b[1;33m,\u001b[0m \u001b[0mself\u001b[0m\u001b[1;33m.\u001b[0m\u001b[0mcols\u001b[0m\u001b[1;33m,\u001b[0m \u001b[0mself\u001b[0m\u001b[1;33m.\u001b[0m\u001b[0mwriter\u001b[0m\u001b[1;33m)\u001b[0m\u001b[1;33m\u001b[0m\u001b[0m\n\u001b[0m\u001b[0;32m   1781\u001b[0m \u001b[1;33m\u001b[0m\u001b[0m\n\u001b[0;32m   1782\u001b[0m \u001b[1;33m\u001b[0m\u001b[0m\n",
      "\u001b[1;32mpandas/_libs/lib.pyx\u001b[0m in \u001b[0;36mpandas._libs.lib.write_csv_rows\u001b[1;34m()\u001b[0m\n",
      "\u001b[1;31mKeyboardInterrupt\u001b[0m: "
     ]
    }
   ],
   "source": [
    "df2.to_csv(\"final_mathematics_288436.csv\",index=False)"
   ]
  },
  {
   "cell_type": "code",
   "execution_count": 11,
   "metadata": {},
   "outputs": [],
   "source": [
    "df3=pd.read_csv('final.csv')"
   ]
  },
  {
   "cell_type": "code",
   "execution_count": 17,
   "metadata": {},
   "outputs": [
    {
     "data": {
      "text/plain": [
       "(603176, 3)"
      ]
     },
     "execution_count": 17,
     "metadata": {},
     "output_type": "execute_result"
    }
   ],
   "source": [
    "df3.dropna().shape"
   ]
  },
  {
   "cell_type": "code",
   "execution_count": 22,
   "metadata": {},
   "outputs": [
    {
     "data": {
      "text/plain": [
       "Index(['DOI', 'title', 'Categories'], dtype='object')"
      ]
     },
     "execution_count": 22,
     "metadata": {},
     "output_type": "execute_result"
    }
   ],
   "source": [
    "df3.columns"
   ]
  },
  {
   "cell_type": "code",
   "execution_count": 24,
   "metadata": {},
   "outputs": [],
   "source": [
    "df3[['DOI','Categories']].dropna().to_csv('physics_DOI.csv',index=False)"
   ]
  },
  {
   "cell_type": "code",
   "execution_count": 18,
   "metadata": {},
   "outputs": [
    {
     "data": {
      "text/html": [
       "<div>\n",
       "<style scoped>\n",
       "    .dataframe tbody tr th:only-of-type {\n",
       "        vertical-align: middle;\n",
       "    }\n",
       "\n",
       "    .dataframe tbody tr th {\n",
       "        vertical-align: top;\n",
       "    }\n",
       "\n",
       "    .dataframe thead th {\n",
       "        text-align: right;\n",
       "    }\n",
       "</style>\n",
       "<table border=\"1\" class=\"dataframe\">\n",
       "  <thead>\n",
       "    <tr style=\"text-align: right;\">\n",
       "      <th></th>\n",
       "      <th>DOI</th>\n",
       "      <th>title</th>\n",
       "      <th>Categories</th>\n",
       "    </tr>\n",
       "  </thead>\n",
       "  <tbody>\n",
       "    <tr>\n",
       "      <th>0</th>\n",
       "      <td>10.1103/PhysRevD.76.013009</td>\n",
       "      <td>Calculation of prompt diphoton production cros...</td>\n",
       "      <td>High Energy Physics - Phenomenology</td>\n",
       "    </tr>\n",
       "    <tr>\n",
       "      <th>1</th>\n",
       "      <td>NaN</td>\n",
       "      <td>The evolution of the Earth-Moon system based o...</td>\n",
       "      <td>Physics - General Physics</td>\n",
       "    </tr>\n",
       "  </tbody>\n",
       "</table>\n",
       "</div>"
      ],
      "text/plain": [
       "                          DOI  \\\n",
       "0  10.1103/PhysRevD.76.013009   \n",
       "1                         NaN   \n",
       "\n",
       "                                               title  \\\n",
       "0  Calculation of prompt diphoton production cros...   \n",
       "1  The evolution of the Earth-Moon system based o...   \n",
       "\n",
       "                            Categories  \n",
       "0  High Energy Physics - Phenomenology  \n",
       "1            Physics - General Physics  "
      ]
     },
     "execution_count": 18,
     "metadata": {},
     "output_type": "execute_result"
    }
   ],
   "source": [
    "df3.head(2)"
   ]
  },
  {
   "cell_type": "code",
   "execution_count": 12,
   "metadata": {},
   "outputs": [
    {
     "data": {
      "text/plain": [
       "<matplotlib.axes._subplots.AxesSubplot at 0x21fa25a31d0>"
      ]
     },
     "execution_count": 12,
     "metadata": {},
     "output_type": "execute_result"
    },
    {
     "data": {
      "image/png": "[encoded data removed]",
      "text/plain": [
       "<Figure size 432x288 with 1 Axes>"
      ]
     },
     "metadata": {},
     "output_type": "display_data"
    }
   ],
   "source": [
    "sns.heatmap(df3.isnull(), yticklabels=False, cbar=False, cmap='viridis')"
   ]
  },
  {
   "cell_type": "code",
   "execution_count": 6,
   "metadata": {},
   "outputs": [],
   "source": [
    "df3=pd.read_csv(\"final_mathematics_288436.csv\")"
   ]
  },
  {
   "cell_type": "code",
   "execution_count": 7,
   "metadata": {},
   "outputs": [
    {
     "data": {
      "text/html": [
       "<div>\n",
       "<style scoped>\n",
       "    .dataframe tbody tr th:only-of-type {\n",
       "        vertical-align: middle;\n",
       "    }\n",
       "\n",
       "    .dataframe tbody tr th {\n",
       "        vertical-align: top;\n",
       "    }\n",
       "\n",
       "    .dataframe thead th {\n",
       "        text-align: right;\n",
       "    }\n",
       "</style>\n",
       "<table border=\"1\" class=\"dataframe\">\n",
       "  <thead>\n",
       "    <tr style=\"text-align: right;\">\n",
       "      <th></th>\n",
       "      <th>DOI</th>\n",
       "      <th>title</th>\n",
       "      <th>Categories</th>\n",
       "    </tr>\n",
       "  </thead>\n",
       "  <tbody>\n",
       "    <tr>\n",
       "      <th>0</th>\n",
       "      <td>NaN</td>\n",
       "      <td>Sparsity-certifying Graph Decompositions</td>\n",
       "      <td>Mathematics - Combinatorics</td>\n",
       "    </tr>\n",
       "    <tr>\n",
       "      <th>1</th>\n",
       "      <td>NaN</td>\n",
       "      <td>A determinant of Stirling cycle numbers counts...</td>\n",
       "      <td>Mathematics - Combinatorics</td>\n",
       "    </tr>\n",
       "    <tr>\n",
       "      <th>2</th>\n",
       "      <td>NaN</td>\n",
       "      <td>From dyadic $\\Lambda_{\\alpha}$ to $\\Lambda_{\\a...</td>\n",
       "      <td>Mathematics - Classical Analysis and ODEs</td>\n",
       "    </tr>\n",
       "    <tr>\n",
       "      <th>3</th>\n",
       "      <td>NaN</td>\n",
       "      <td>Partial cubes: structures, characterizations, ...</td>\n",
       "      <td>Mathematics - Combinatorics</td>\n",
       "    </tr>\n",
       "    <tr>\n",
       "      <th>4</th>\n",
       "      <td>NaN</td>\n",
       "      <td>Computing genus 2 Hilbert-Siegel modular forms...</td>\n",
       "      <td>Mathematics - Number Theory</td>\n",
       "    </tr>\n",
       "  </tbody>\n",
       "</table>\n",
       "</div>"
      ],
      "text/plain": [
       "   DOI                                              title  \\\n",
       "0  NaN           Sparsity-certifying Graph Decompositions   \n",
       "1  NaN  A determinant of Stirling cycle numbers counts...   \n",
       "2  NaN  From dyadic $\\Lambda_{\\alpha}$ to $\\Lambda_{\\a...   \n",
       "3  NaN  Partial cubes: structures, characterizations, ...   \n",
       "4  NaN  Computing genus 2 Hilbert-Siegel modular forms...   \n",
       "\n",
       "                                  Categories  \n",
       "0                Mathematics - Combinatorics  \n",
       "1                Mathematics - Combinatorics  \n",
       "2  Mathematics - Classical Analysis and ODEs  \n",
       "3                Mathematics - Combinatorics  \n",
       "4                Mathematics - Number Theory  "
      ]
     },
     "execution_count": 7,
     "metadata": {},
     "output_type": "execute_result"
    }
   ],
   "source": [
    "df3.head()"
   ]
  },
  {
   "cell_type": "code",
   "execution_count": 52,
   "metadata": {},
   "outputs": [],
   "source": [
    "from requests.exceptions import ConnectionError\n",
    "import requests\n",
    "\n",
    "def download_pdf(url):\n",
    "    '''Takes as an input a list of urls and downloads the papers.'''\n",
    "    try:\n",
    "        response = requests.get(url)\n",
    "    except ConnectionError:\n",
    "        print ('Failed to open url.')\n",
    "        return\n",
    "    response = requests.get(url, stream=True)\n",
    "    path = 'tmp/'+ url.split('/')[-1]\n",
    "    with open(path, 'wb') as f:\n",
    "        f.write(response.content)\n",
    "        return"
   ]
  },
  {
   "cell_type": "code",
   "execution_count": null,
   "metadata": {},
   "outputs": [],
   "source": []
  },
  {
   "cell_type": "code",
   "execution_count": 53,
   "metadata": {},
   "outputs": [],
   "source": [
    "for url in list(df2['url']):\n",
    "    download_pdf(url)\n",
    "    "
   ]
  },
  {
   "cell_type": "code",
   "execution_count": 9,
   "metadata": {},
   "outputs": [],
   "source": [
    "df.to_csv('arxiv_DOI.csv',index=False)"
   ]
  },
  {
   "cell_type": "code",
   "execution_count": 8,
   "metadata": {},
   "outputs": [
    {
     "data": {
      "text/plain": [
       "(898659, 4)"
      ]
     },
     "execution_count": 8,
     "metadata": {},
     "output_type": "execute_result"
    }
   ],
   "source": [
    "df.shape"
   ]
  },
  {
   "cell_type": "code",
   "execution_count": 10,
   "metadata": {},
   "outputs": [
    {
     "data": {
      "text/html": [
       "<div>\n",
       "<style scoped>\n",
       "    .dataframe tbody tr th:only-of-type {\n",
       "        vertical-align: middle;\n",
       "    }\n",
       "\n",
       "    .dataframe tbody tr th {\n",
       "        vertical-align: top;\n",
       "    }\n",
       "\n",
       "    .dataframe thead th {\n",
       "        text-align: right;\n",
       "    }\n",
       "</style>\n",
       "<table border=\"1\" class=\"dataframe\">\n",
       "  <thead>\n",
       "    <tr style=\"text-align: right;\">\n",
       "      <th></th>\n",
       "      <th>DOI</th>\n",
       "      <th>Journal</th>\n",
       "      <th>title</th>\n",
       "      <th>Categories</th>\n",
       "    </tr>\n",
       "  </thead>\n",
       "  <tbody>\n",
       "    <tr>\n",
       "      <th>0</th>\n",
       "      <td>doi:10.1103/PhysRevD.76.013009</td>\n",
       "      <td>Phys.Rev.D76:013009,2007</td>\n",
       "      <td>Calculation of prompt diphoton production cros...</td>\n",
       "      <td>High Energy Physics - Phenomenology</td>\n",
       "    </tr>\n",
       "    <tr>\n",
       "      <th>1</th>\n",
       "      <td>NaN</td>\n",
       "      <td>NaN</td>\n",
       "      <td>Sparsity-certifying Graph Decompositions</td>\n",
       "      <td>Mathematics - Combinatorics</td>\n",
       "    </tr>\n",
       "    <tr>\n",
       "      <th>2</th>\n",
       "      <td>NaN</td>\n",
       "      <td>NaN</td>\n",
       "      <td>The evolution of the Earth-Moon system based o...</td>\n",
       "      <td>Physics - General Physics</td>\n",
       "    </tr>\n",
       "    <tr>\n",
       "      <th>3</th>\n",
       "      <td>NaN</td>\n",
       "      <td>NaN</td>\n",
       "      <td>A determinant of Stirling cycle numbers counts...</td>\n",
       "      <td>Mathematics - Combinatorics</td>\n",
       "    </tr>\n",
       "    <tr>\n",
       "      <th>4</th>\n",
       "      <td>NaN</td>\n",
       "      <td>Illinois J. Math. 52 (2008) no.2, 681-689</td>\n",
       "      <td>From dyadic $\\Lambda_{\\alpha}$ to $\\Lambda_{\\a...</td>\n",
       "      <td>Mathematics - Classical Analysis and ODEs</td>\n",
       "    </tr>\n",
       "  </tbody>\n",
       "</table>\n",
       "</div>"
      ],
      "text/plain": [
       "                              DOI                                    Journal  \\\n",
       "0  doi:10.1103/PhysRevD.76.013009                   Phys.Rev.D76:013009,2007   \n",
       "1                             NaN                                        NaN   \n",
       "2                             NaN                                        NaN   \n",
       "3                             NaN                                        NaN   \n",
       "4                             NaN  Illinois J. Math. 52 (2008) no.2, 681-689   \n",
       "\n",
       "                                               title  \\\n",
       "0  Calculation of prompt diphoton production cros...   \n",
       "1           Sparsity-certifying Graph Decompositions   \n",
       "2  The evolution of the Earth-Moon system based o...   \n",
       "3  A determinant of Stirling cycle numbers counts...   \n",
       "4  From dyadic $\\Lambda_{\\alpha}$ to $\\Lambda_{\\a...   \n",
       "\n",
       "                                  Categories  \n",
       "0        High Energy Physics - Phenomenology  \n",
       "1                Mathematics - Combinatorics  \n",
       "2                  Physics - General Physics  \n",
       "3                Mathematics - Combinatorics  \n",
       "4  Mathematics - Classical Analysis and ODEs  "
      ]
     },
     "execution_count": 10,
     "metadata": {},
     "output_type": "execute_result"
    }
   ],
   "source": [
    "df.head()"
   ]
  },
  {
   "cell_type": "code",
   "execution_count": 1,
   "metadata": {},
   "outputs": [],
   "source": [
    "from bs4 import BeautifulSoup"
   ]
  },
  {
   "cell_type": "code",
   "execution_count": 12,
   "metadata": {},
   "outputs": [
    {
     "data": {
      "text/plain": [
       "'High Energy Physics'"
      ]
     },
     "execution_count": 12,
     "metadata": {},
     "output_type": "execute_result"
    }
   ],
   "source": [
    "text = 'High Energy Physics - Phenomenology'\n",
    "text.split(' - ')[0]"
   ]
  },
  {
   "cell_type": "code",
   "execution_count": 9,
   "metadata": {},
   "outputs": [],
   "source": [
    "file = 'oai%3AarXiv.org%3A0704.0001.oai_dc.xml'"
   ]
  },
  {
   "cell_type": "code",
   "execution_count": 10,
   "metadata": {},
   "outputs": [],
   "source": [
    "infile = open(file,\"r\")\n",
    "contents = infile.read()"
   ]
  },
  {
   "cell_type": "code",
   "execution_count": 61,
   "metadata": {},
   "outputs": [],
   "source": [
    "from bs4 import BeautifulSoup\n",
    "import pandas as pd\n",
    "import glob\n",
    "import pprint"
   ]
  },
  {
   "cell_type": "code",
   "execution_count": null,
   "metadata": {},
   "outputs": [],
   "source": [
    "def DOI_extract(identifiers):\n",
    "    '''Extract DOI reference from metadata'''\n",
    "    if identifiers==[]:\n",
    "        return\n",
    "\n",
    "    for link in identifiers:\n",
    "        \n",
    "        if link.text[:4] == 'doi:':\n",
    "#             return link.text[4:]\n",
    "            return link.text\n",
    "    \n",
    "    return float('nan')"
   ]
  },
  {
   "cell_type": "code",
   "execution_count": 83,
   "metadata": {},
   "outputs": [],
   "source": [
    "def journal_extract(identifiers):\n",
    "    '''Extract Journal reference from metadata'''\n",
    "    if identifiers==[]:\n",
    "        return float('nan')\n",
    "\n",
    "    for link in identifiers:\n",
    "        if link.text[:4] != 'doi:' and link.text[:5] != 'http:':\n",
    "                return link.text\n",
    "        \n",
    "\n",
    "    return float('nan')"
   ]
  },
  {
   "cell_type": "code",
   "execution_count": 84,
   "metadata": {},
   "outputs": [],
   "source": [
    "def fields_of_interest(soup):\n",
    "    '''Gathers xml tags of interest from arxiv'''\n",
    "    fields = []\n",
    "    ident = soup.find_all('dc:identifier')\n",
    "    fields.append(DOI_extract(ident))\n",
    "    fields.append(journal_extract(ident))\n",
    "    \n",
    "    try:\n",
    "        fields.append(soup.find_all('dc:title')[0].text)\n",
    "    except:\n",
    "         fields.append(float('nan'))\n",
    "    \n",
    "    \n",
    "#     try:\n",
    "#         fields.append(soup.find_all('dc:description')[0].text)\n",
    "#     except:\n",
    "#          fields.append(float('nan'))\n",
    "    \n",
    "    try:\n",
    "        fields.append(soup.find_all('dc:subject')[0].text)\n",
    "    except:\n",
    "         fields.append(float('nan'))\n",
    "    \n",
    "    return fields"
   ]
  },
  {
   "cell_type": "code",
   "execution_count": 96,
   "metadata": {},
   "outputs": [],
   "source": [
    "import pprint\n",
    "info = []\n",
    "for name in glob.glob('data\\*'):\n",
    "    \n",
    "    soup = bs.BeautifulSoup(open(name), \"lxml-xml\")\n",
    "\n",
    "#     pprint.pprint(fields_of_interest(soup))\n",
    "    info.append(fields_of_interest(soup))\n",
    "\n",
    "# df = pd.DataFrame(info,columns=['DOI', 'Journal', 'title','Abstract','Categories']) \n",
    "df = pd.DataFrame(info,columns=['DOI', 'Journal', 'title','Categories'])\n",
    "df.to_csv('test.csv',index=False)"
   ]
  },
  {
   "cell_type": "code",
   "execution_count": 94,
   "metadata": {
    "scrolled": true
   },
   "outputs": [
    {
     "data": {
      "text/html": [
       "<div>\n",
       "<style scoped>\n",
       "    .dataframe tbody tr th:only-of-type {\n",
       "        vertical-align: middle;\n",
       "    }\n",
       "\n",
       "    .dataframe tbody tr th {\n",
       "        vertical-align: top;\n",
       "    }\n",
       "\n",
       "    .dataframe thead th {\n",
       "        text-align: right;\n",
       "    }\n",
       "</style>\n",
       "<table border=\"1\" class=\"dataframe\">\n",
       "  <thead>\n",
       "    <tr style=\"text-align: right;\">\n",
       "      <th></th>\n",
       "      <th>DOI</th>\n",
       "      <th>Journal</th>\n",
       "      <th>title</th>\n",
       "      <th>Abstract</th>\n",
       "      <th>Categories</th>\n",
       "    </tr>\n",
       "  </thead>\n",
       "  <tbody>\n",
       "    <tr>\n",
       "      <th>0</th>\n",
       "      <td>doi:10.1103/PhysRevD.76.013009</td>\n",
       "      <td>Phys.Rev.D76:013009,2007</td>\n",
       "      <td>Calculation of prompt diphoton production cros...</td>\n",
       "      <td>A fully differential calculation in perturba...</td>\n",
       "      <td>High Energy Physics - Phenomenology</td>\n",
       "    </tr>\n",
       "    <tr>\n",
       "      <th>1</th>\n",
       "      <td>NaN</td>\n",
       "      <td>NaN</td>\n",
       "      <td>Sparsity-certifying Graph Decompositions</td>\n",
       "      <td>We describe a new algorithm, the $(k,\\ell)$-...</td>\n",
       "      <td>Mathematics - Combinatorics</td>\n",
       "    </tr>\n",
       "    <tr>\n",
       "      <th>2</th>\n",
       "      <td>NaN</td>\n",
       "      <td>NaN</td>\n",
       "      <td>The evolution of the Earth-Moon system based o...</td>\n",
       "      <td>The evolution of Earth-Moon system is descri...</td>\n",
       "      <td>Physics - General Physics</td>\n",
       "    </tr>\n",
       "    <tr>\n",
       "      <th>3</th>\n",
       "      <td>NaN</td>\n",
       "      <td>NaN</td>\n",
       "      <td>A determinant of Stirling cycle numbers counts...</td>\n",
       "      <td>We show that a determinant of Stirling cycle...</td>\n",
       "      <td>Mathematics - Combinatorics</td>\n",
       "    </tr>\n",
       "    <tr>\n",
       "      <th>4</th>\n",
       "      <td>NaN</td>\n",
       "      <td>Illinois J. Math. 52 (2008) no.2, 681-689</td>\n",
       "      <td>From dyadic $\\Lambda_{\\alpha}$ to $\\Lambda_{\\a...</td>\n",
       "      <td>In this paper we show how to compute the $\\L...</td>\n",
       "      <td>Mathematics - Classical Analysis and ODEs</td>\n",
       "    </tr>\n",
       "    <tr>\n",
       "      <th>5</th>\n",
       "      <td>doi:10.1103/PhysRevA.75.043613</td>\n",
       "      <td>NaN</td>\n",
       "      <td>Bosonic characters of atomic Cooper pairs acro...</td>\n",
       "      <td>We study the two-particle wave function of p...</td>\n",
       "      <td>Condensed Matter - Mesoscale and Nanoscale Phy...</td>\n",
       "    </tr>\n",
       "    <tr>\n",
       "      <th>6</th>\n",
       "      <td>doi:10.1103/PhysRevD.76.044016</td>\n",
       "      <td>Phys.Rev.D76:044016,2007</td>\n",
       "      <td>Polymer Quantum Mechanics and its Continuum Limit</td>\n",
       "      <td>A rather non-standard quantum representation...</td>\n",
       "      <td>General Relativity and Quantum Cosmology</td>\n",
       "    </tr>\n",
       "    <tr>\n",
       "      <th>7</th>\n",
       "      <td>doi:10.1063/1.2975338</td>\n",
       "      <td>Journal of Applied Physics, vol 104, 073536 (2...</td>\n",
       "      <td>Numerical solution of shock and ramp compressi...</td>\n",
       "      <td>A general formulation was developed to repre...</td>\n",
       "      <td>Condensed Matter - Materials Science</td>\n",
       "    </tr>\n",
       "    <tr>\n",
       "      <th>8</th>\n",
       "      <td>doi:10.1086/518646</td>\n",
       "      <td>Astrophys.J.663:1149-1173,2007</td>\n",
       "      <td>The Spitzer c2d Survey of Large, Nearby, Inste...</td>\n",
       "      <td>We discuss the results from the combined IRA...</td>\n",
       "      <td>Astrophysics</td>\n",
       "    </tr>\n",
       "    <tr>\n",
       "      <th>9</th>\n",
       "      <td>NaN</td>\n",
       "      <td>NaN</td>\n",
       "      <td>Partial cubes: structures, characterizations, ...</td>\n",
       "      <td>Partial cubes are isometric subgraphs of hyp...</td>\n",
       "      <td>Mathematics - Combinatorics</td>\n",
       "    </tr>\n",
       "    <tr>\n",
       "      <th>10</th>\n",
       "      <td>NaN</td>\n",
       "      <td>NaN</td>\n",
       "      <td>Computing genus 2 Hilbert-Siegel modular forms...</td>\n",
       "      <td>In this paper we present an algorithm for co...</td>\n",
       "      <td>Mathematics - Number Theory</td>\n",
       "    </tr>\n",
       "    <tr>\n",
       "      <th>11</th>\n",
       "      <td>NaN</td>\n",
       "      <td>NaN</td>\n",
       "      <td>Distribution of integral Fourier Coefficients ...</td>\n",
       "      <td>Recently, Bruinier and Ono classified cusp f...</td>\n",
       "      <td>Mathematics - Number Theory</td>\n",
       "    </tr>\n",
       "    <tr>\n",
       "      <th>12</th>\n",
       "      <td>NaN</td>\n",
       "      <td>NaN</td>\n",
       "      <td>$p$-adic Limit of Weakly Holomorphic Modular F...</td>\n",
       "      <td>Serre obtained the p-adic limit of the integ...</td>\n",
       "      <td>Mathematics - Number Theory</td>\n",
       "    </tr>\n",
       "    <tr>\n",
       "      <th>13</th>\n",
       "      <td>NaN</td>\n",
       "      <td>NaN</td>\n",
       "      <td>Iterated integral and the loop product</td>\n",
       "      <td>In this article we discuss a relation betwee...</td>\n",
       "      <td>Mathematics - Classical Analysis and ODEs</td>\n",
       "    </tr>\n",
       "    <tr>\n",
       "      <th>14</th>\n",
       "      <td>doi:10.1088/1126-6708/2007/05/034</td>\n",
       "      <td>JHEP 0705:034,2007</td>\n",
       "      <td>Fermionic superstring loop amplitudes in the p...</td>\n",
       "      <td>The pure spinor formulation of the ten-dimen...</td>\n",
       "      <td>High Energy Physics - Theory</td>\n",
       "    </tr>\n",
       "    <tr>\n",
       "      <th>15</th>\n",
       "      <td>doi:10.1088/0253-6102/49/4/38</td>\n",
       "      <td>Commun.Theor.Phys.49:993-1000,2008</td>\n",
       "      <td>Lifetime of doubly charmed baryons</td>\n",
       "      <td>In this work, we evaluate the lifetimes of t...</td>\n",
       "      <td>High Energy Physics - Phenomenology</td>\n",
       "    </tr>\n",
       "    <tr>\n",
       "      <th>16</th>\n",
       "      <td>doi:10.1111/j.1365-2966.2007.11762.x</td>\n",
       "      <td>Mon.Not.Roy.Astron.Soc.378:211-220,2007</td>\n",
       "      <td>Spectroscopic Observations of the Intermediate...</td>\n",
       "      <td>Results from spectroscopic observations of t...</td>\n",
       "      <td>Astrophysics</td>\n",
       "    </tr>\n",
       "    <tr>\n",
       "      <th>17</th>\n",
       "      <td>NaN</td>\n",
       "      <td>NaN</td>\n",
       "      <td>In quest of a generalized Callias index theorem</td>\n",
       "      <td>We give a prescription for how to compute th...</td>\n",
       "      <td>High Energy Physics - Theory</td>\n",
       "    </tr>\n",
       "    <tr>\n",
       "      <th>18</th>\n",
       "      <td>NaN</td>\n",
       "      <td>RIMS Kokyuroku, No.1551, pp.57-62 (2007)</td>\n",
       "      <td>Approximation for extinction probability of th...</td>\n",
       "      <td>In this note we give a new method for gettin...</td>\n",
       "      <td>Mathematics - Probability</td>\n",
       "    </tr>\n",
       "    <tr>\n",
       "      <th>19</th>\n",
       "      <td>doi:10.1103/PhysRevD.76.052005</td>\n",
       "      <td>Phys.Rev.D76:052005,2007</td>\n",
       "      <td>Measurement of the Hadronic Form Factor in D0 ...</td>\n",
       "      <td>The shape of the hadronic form factor f+(q2)...</td>\n",
       "      <td>High Energy Physics - Experiment</td>\n",
       "    </tr>\n",
       "    <tr>\n",
       "      <th>20</th>\n",
       "      <td>doi:10.1103/PhysRevLett.99.048301</td>\n",
       "      <td>Phys. Rev. Lett. 99, 048301 (2007)</td>\n",
       "      <td>Molecular Synchronization Waves in Arrays of A...</td>\n",
       "      <td>Spatiotemporal pattern formation in a produc...</td>\n",
       "      <td>Nonlinear Sciences - Pattern Formation and Sol...</td>\n",
       "    </tr>\n",
       "    <tr>\n",
       "      <th>21</th>\n",
       "      <td>NaN</td>\n",
       "      <td>NaN</td>\n",
       "      <td>Stochastic Lie group integrators</td>\n",
       "      <td>We present Lie group integrators for nonline...</td>\n",
       "      <td>Mathematics - Numerical Analysis</td>\n",
       "    </tr>\n",
       "    <tr>\n",
       "      <th>22</th>\n",
       "      <td>doi:10.1007/s10509-007-9626-1</td>\n",
       "      <td>Astrophys.Space Sci.313:197-200,2008</td>\n",
       "      <td>ALMA as the ideal probe of the solar chromosphere</td>\n",
       "      <td>The very nature of the solar chromosphere, i...</td>\n",
       "      <td>Astrophysics</td>\n",
       "    </tr>\n",
       "    <tr>\n",
       "      <th>23</th>\n",
       "      <td>NaN</td>\n",
       "      <td>NaN</td>\n",
       "      <td>Formation of quasi-solitons in transverse conf...</td>\n",
       "      <td>The formation of quasi-2D spin-wave waveform...</td>\n",
       "      <td>Nonlinear Sciences - Pattern Formation and Sol...</td>\n",
       "    </tr>\n",
       "    <tr>\n",
       "      <th>24</th>\n",
       "      <td>doi:10.1007/978-1-4020-6348-0_12</td>\n",
       "      <td>NaN</td>\n",
       "      <td>Spectroscopic Properties of Polarons in Strong...</td>\n",
       "      <td>We present recent advances in understanding ...</td>\n",
       "      <td>Condensed Matter - Strongly Correlated Electrons</td>\n",
       "    </tr>\n",
       "    <tr>\n",
       "      <th>25</th>\n",
       "      <td>NaN</td>\n",
       "      <td>NaN</td>\n",
       "      <td>Placeholder Substructures II: Meta-Fractals, M...</td>\n",
       "      <td>Zero-divisors (ZDs) derived by Cayley-Dickso...</td>\n",
       "      <td>Mathematics - Rings and Algebras</td>\n",
       "    </tr>\n",
       "    <tr>\n",
       "      <th>26</th>\n",
       "      <td>doi:10.1103/PhysRevLett.99.087402</td>\n",
       "      <td>Phys. Rev. Lett. 99, 087402 (2007)</td>\n",
       "      <td>Filling-Factor-Dependent Magnetophonon Resonan...</td>\n",
       "      <td>We describe a peculiar fine structure acquir...</td>\n",
       "      <td>Condensed Matter - Mesoscale and Nanoscale Phy...</td>\n",
       "    </tr>\n",
       "    <tr>\n",
       "      <th>27</th>\n",
       "      <td>NaN</td>\n",
       "      <td>Math. Res. Lett. 15 (2008), no. 2, 351--358</td>\n",
       "      <td>Pfaffians, hafnians and products of real linea...</td>\n",
       "      <td>We prove pfaffian and hafnian versions of Li...</td>\n",
       "      <td>Mathematics - Classical Analysis and ODEs</td>\n",
       "    </tr>\n",
       "    <tr>\n",
       "      <th>28</th>\n",
       "      <td>doi:10.1103/PhysRevD.75.094018</td>\n",
       "      <td>Phys.Rev.D75:094018,2007</td>\n",
       "      <td>Understanding the Flavor Symmetry Breaking and...</td>\n",
       "      <td>In $\\XQM$, a quark can emit Goldstone bosons...</td>\n",
       "      <td>High Energy Physics - Phenomenology</td>\n",
       "    </tr>\n",
       "    <tr>\n",
       "      <th>29</th>\n",
       "      <td>doi:10.1007/s10909-005-6013-6</td>\n",
       "      <td>J. Low. Temp. Phys. Vol. 140 pp77-89 (2005)</td>\n",
       "      <td>Tuning correlation effects with electron-phono...</td>\n",
       "      <td>We investigate the effect of tuning the phon...</td>\n",
       "      <td>Condensed Matter - Strongly Correlated Electrons</td>\n",
       "    </tr>\n",
       "    <tr>\n",
       "      <th>30</th>\n",
       "      <td>doi:10.1016/j.physletb.2007.10.051</td>\n",
       "      <td>Phys.Lett.B658:7-12,2007</td>\n",
       "      <td>Crystal channeling of LHC forward protons with...</td>\n",
       "      <td>We show that crystal can trap a broad (x, x'...</td>\n",
       "      <td>High Energy Physics - Phenomenology</td>\n",
       "    </tr>\n",
       "    <tr>\n",
       "      <th>31</th>\n",
       "      <td>doi:10.1103/PhysRevD.76.053001</td>\n",
       "      <td>Phys.Rev.D76:053001,2007</td>\n",
       "      <td>Probing non-standard neutrino interactions wit...</td>\n",
       "      <td>We analyze the possibility of probing non-st...</td>\n",
       "      <td>High Energy Physics - Phenomenology</td>\n",
       "    </tr>\n",
       "    <tr>\n",
       "      <th>32</th>\n",
       "      <td>doi:10.1364/JOSAA.23.002578</td>\n",
       "      <td>J.Opt.Soc.Am.A 23(10): 2578-2591 (2006)</td>\n",
       "      <td>Convergence of the discrete dipole approximati...</td>\n",
       "      <td>We performed a rigorous theoretical converge...</td>\n",
       "      <td>Physics - Optics</td>\n",
       "    </tr>\n",
       "    <tr>\n",
       "      <th>33</th>\n",
       "      <td>NaN</td>\n",
       "      <td>NaN</td>\n",
       "      <td>Origin of adaptive mutants: a quantum measurem...</td>\n",
       "      <td>This is a supplement to the paper arXiv:q-bi...</td>\n",
       "      <td>Quantitative Biology - Populations and Evolution</td>\n",
       "    </tr>\n",
       "    <tr>\n",
       "      <th>34</th>\n",
       "      <td>doi:10.1364/JOSAA.23.002592</td>\n",
       "      <td>J.Opt.Soc.Am.A 23(10): 2592-2601 (2006)</td>\n",
       "      <td>Convergence of the discrete dipole approximati...</td>\n",
       "      <td>We propose an extrapolation technique that a...</td>\n",
       "      <td>Physics - Optics</td>\n",
       "    </tr>\n",
       "    <tr>\n",
       "      <th>35</th>\n",
       "      <td>NaN</td>\n",
       "      <td>NaN</td>\n",
       "      <td>A remark on the number of steady states in a m...</td>\n",
       "      <td>The multisite phosphorylation-dephosphorylat...</td>\n",
       "      <td>Quantitative Biology - Quantitative Methods</td>\n",
       "    </tr>\n",
       "    <tr>\n",
       "      <th>36</th>\n",
       "      <td>doi:10.1016/j.jqsrt.2007.01.033</td>\n",
       "      <td>J.Quant.Spectrosc.Radiat.Transf. 106, 546-557 ...</td>\n",
       "      <td>The discrete dipole approximation for simulati...</td>\n",
       "      <td>In this manuscript we investigate the capabi...</td>\n",
       "      <td>Physics - Optics</td>\n",
       "    </tr>\n",
       "    <tr>\n",
       "      <th>37</th>\n",
       "      <td>doi:10.1016/j.jqsrt.2007.01.034</td>\n",
       "      <td>J.Quant.Spectrosc.Radiat.Transf. 106, 558-589 ...</td>\n",
       "      <td>The discrete dipole approximation: an overview...</td>\n",
       "      <td>We present a review of the discrete dipole a...</td>\n",
       "      <td>Physics - Optics</td>\n",
       "    </tr>\n",
       "    <tr>\n",
       "      <th>38</th>\n",
       "      <td>doi:10.1016/j.physletb.2007.06.023</td>\n",
       "      <td>Phys.Lett.B651:139-146,2007</td>\n",
       "      <td>Scalar radius of the pion and zeros in the for...</td>\n",
       "      <td>The quadratic pion scalar radius, \\la r^2\\ra...</td>\n",
       "      <td>High Energy Physics - Phenomenology</td>\n",
       "    </tr>\n",
       "    <tr>\n",
       "      <th>39</th>\n",
       "      <td>NaN</td>\n",
       "      <td>NaN</td>\n",
       "      <td>Multilinear function series in conditionally f...</td>\n",
       "      <td>As in the cases of freeness and monotonic in...</td>\n",
       "      <td>Mathematics - Operator Algebras</td>\n",
       "    </tr>\n",
       "    <tr>\n",
       "      <th>40</th>\n",
       "      <td>doi:10.1007/s00220-008-0461-1</td>\n",
       "      <td>NaN</td>\n",
       "      <td>Quantum Group of Isometries in Classical and N...</td>\n",
       "      <td>We formulate a quantum generalization of the...</td>\n",
       "      <td>Mathematics - Quantum Algebra</td>\n",
       "    </tr>\n",
       "    <tr>\n",
       "      <th>41</th>\n",
       "      <td>NaN</td>\n",
       "      <td>NaN</td>\n",
       "      <td>General System theory, Like-Quantum Semantics ...</td>\n",
       "      <td>It is outlined the possibility to extend the...</td>\n",
       "      <td>Physics - General Physics</td>\n",
       "    </tr>\n",
       "    <tr>\n",
       "      <th>42</th>\n",
       "      <td>doi:10.1016/j.physa.2007.09.031</td>\n",
       "      <td>Physica A, V. 387, Issues 2-3 (2008), Pages 38...</td>\n",
       "      <td>Nonequilibrium entropy limiters in lattice Bol...</td>\n",
       "      <td>We construct a system of nonequilibrium entr...</td>\n",
       "      <td>Condensed Matter - Statistical Mechanics</td>\n",
       "    </tr>\n",
       "    <tr>\n",
       "      <th>43</th>\n",
       "      <td>doi:10.1088/0067-0049/182/1/310</td>\n",
       "      <td>ApJS 182, 310 (2009)</td>\n",
       "      <td>Astrophysical gyrokinetics: kinetic and fluid ...</td>\n",
       "      <td>We present a theoretical framework for plasm...</td>\n",
       "      <td>Astrophysics</td>\n",
       "    </tr>\n",
       "    <tr>\n",
       "      <th>44</th>\n",
       "      <td>doi:10.1017/S0022112007006817</td>\n",
       "      <td>J. Fluid Mech. 585, 213-244 (2007)</td>\n",
       "      <td>Evolution of solitary waves and undular bores ...</td>\n",
       "      <td>This paper considers the propagation of shal...</td>\n",
       "      <td>Nonlinear Sciences - Pattern Formation and Sol...</td>\n",
       "    </tr>\n",
       "    <tr>\n",
       "      <th>45</th>\n",
       "      <td>doi:10.1063/1.2779138</td>\n",
       "      <td>J. Math. Phys. 48(2007), 092102.</td>\n",
       "      <td>A limit relation for entropy and channel capac...</td>\n",
       "      <td>In a quantum mechanical model, Diosi, Feldma...</td>\n",
       "      <td>Quantum Physics</td>\n",
       "    </tr>\n",
       "    <tr>\n",
       "      <th>46</th>\n",
       "      <td>NaN</td>\n",
       "      <td>NaN</td>\n",
       "      <td>Intelligent location of simultaneously active ...</td>\n",
       "      <td>The intelligent acoustic emission locator is...</td>\n",
       "      <td>Computer Science - Neural and Evolutionary Com...</td>\n",
       "    </tr>\n",
       "    <tr>\n",
       "      <th>47</th>\n",
       "      <td>doi:10.1088/0264-9381/24/19/S17</td>\n",
       "      <td>Class.Quant.Grav.24:S541-S550,2007</td>\n",
       "      <td>Inference on white dwarf binary systems using ...</td>\n",
       "      <td>We report on the analysis of selected single...</td>\n",
       "      <td>General Relativity and Quantum Cosmology</td>\n",
       "    </tr>\n",
       "    <tr>\n",
       "      <th>48</th>\n",
       "      <td>NaN</td>\n",
       "      <td>NaN</td>\n",
       "      <td>An algorithm for the classification of smooth ...</td>\n",
       "      <td>We present an algorithm that produces the cl...</td>\n",
       "      <td>Mathematics - Combinatorics</td>\n",
       "    </tr>\n",
       "    <tr>\n",
       "      <th>49</th>\n",
       "      <td>NaN</td>\n",
       "      <td>NaN</td>\n",
       "      <td>Intelligent location of simultaneously active ...</td>\n",
       "      <td>Part I describes an intelligent acoustic emi...</td>\n",
       "      <td>Computer Science - Neural and Evolutionary Com...</td>\n",
       "    </tr>\n",
       "  </tbody>\n",
       "</table>\n",
       "</div>"
      ],
      "text/plain": [
       "                                     DOI  \\\n",
       "0         doi:10.1103/PhysRevD.76.013009   \n",
       "1                                    NaN   \n",
       "2                                    NaN   \n",
       "3                                    NaN   \n",
       "4                                    NaN   \n",
       "5         doi:10.1103/PhysRevA.75.043613   \n",
       "6         doi:10.1103/PhysRevD.76.044016   \n",
       "7                  doi:10.1063/1.2975338   \n",
       "8                     doi:10.1086/518646   \n",
       "9                                    NaN   \n",
       "10                                   NaN   \n",
       "11                                   NaN   \n",
       "12                                   NaN   \n",
       "13                                   NaN   \n",
       "14     doi:10.1088/1126-6708/2007/05/034   \n",
       "15         doi:10.1088/0253-6102/49/4/38   \n",
       "16  doi:10.1111/j.1365-2966.2007.11762.x   \n",
       "17                                   NaN   \n",
       "18                                   NaN   \n",
       "19        doi:10.1103/PhysRevD.76.052005   \n",
       "20     doi:10.1103/PhysRevLett.99.048301   \n",
       "21                                   NaN   \n",
       "22         doi:10.1007/s10509-007-9626-1   \n",
       "23                                   NaN   \n",
       "24      doi:10.1007/978-1-4020-6348-0_12   \n",
       "25                                   NaN   \n",
       "26     doi:10.1103/PhysRevLett.99.087402   \n",
       "27                                   NaN   \n",
       "28        doi:10.1103/PhysRevD.75.094018   \n",
       "29         doi:10.1007/s10909-005-6013-6   \n",
       "30    doi:10.1016/j.physletb.2007.10.051   \n",
       "31        doi:10.1103/PhysRevD.76.053001   \n",
       "32           doi:10.1364/JOSAA.23.002578   \n",
       "33                                   NaN   \n",
       "34           doi:10.1364/JOSAA.23.002592   \n",
       "35                                   NaN   \n",
       "36       doi:10.1016/j.jqsrt.2007.01.033   \n",
       "37       doi:10.1016/j.jqsrt.2007.01.034   \n",
       "38    doi:10.1016/j.physletb.2007.06.023   \n",
       "39                                   NaN   \n",
       "40         doi:10.1007/s00220-008-0461-1   \n",
       "41                                   NaN   \n",
       "42       doi:10.1016/j.physa.2007.09.031   \n",
       "43       doi:10.1088/0067-0049/182/1/310   \n",
       "44         doi:10.1017/S0022112007006817   \n",
       "45                 doi:10.1063/1.2779138   \n",
       "46                                   NaN   \n",
       "47       doi:10.1088/0264-9381/24/19/S17   \n",
       "48                                   NaN   \n",
       "49                                   NaN   \n",
       "\n",
       "                                              Journal  \\\n",
       "0                            Phys.Rev.D76:013009,2007   \n",
       "1                                                 NaN   \n",
       "2                                                 NaN   \n",
       "3                                                 NaN   \n",
       "4           Illinois J. Math. 52 (2008) no.2, 681-689   \n",
       "5                                                 NaN   \n",
       "6                            Phys.Rev.D76:044016,2007   \n",
       "7   Journal of Applied Physics, vol 104, 073536 (2...   \n",
       "8                      Astrophys.J.663:1149-1173,2007   \n",
       "9                                                 NaN   \n",
       "10                                                NaN   \n",
       "11                                                NaN   \n",
       "12                                                NaN   \n",
       "13                                                NaN   \n",
       "14                                 JHEP 0705:034,2007   \n",
       "15                 Commun.Theor.Phys.49:993-1000,2008   \n",
       "16            Mon.Not.Roy.Astron.Soc.378:211-220,2007   \n",
       "17                                                NaN   \n",
       "18           RIMS Kokyuroku, No.1551, pp.57-62 (2007)   \n",
       "19                           Phys.Rev.D76:052005,2007   \n",
       "20                 Phys. Rev. Lett. 99, 048301 (2007)   \n",
       "21                                                NaN   \n",
       "22               Astrophys.Space Sci.313:197-200,2008   \n",
       "23                                                NaN   \n",
       "24                                                NaN   \n",
       "25                                                NaN   \n",
       "26                 Phys. Rev. Lett. 99, 087402 (2007)   \n",
       "27        Math. Res. Lett. 15 (2008), no. 2, 351--358   \n",
       "28                           Phys.Rev.D75:094018,2007   \n",
       "29        J. Low. Temp. Phys. Vol. 140 pp77-89 (2005)   \n",
       "30                           Phys.Lett.B658:7-12,2007   \n",
       "31                           Phys.Rev.D76:053001,2007   \n",
       "32            J.Opt.Soc.Am.A 23(10): 2578-2591 (2006)   \n",
       "33                                                NaN   \n",
       "34            J.Opt.Soc.Am.A 23(10): 2592-2601 (2006)   \n",
       "35                                                NaN   \n",
       "36  J.Quant.Spectrosc.Radiat.Transf. 106, 546-557 ...   \n",
       "37  J.Quant.Spectrosc.Radiat.Transf. 106, 558-589 ...   \n",
       "38                        Phys.Lett.B651:139-146,2007   \n",
       "39                                                NaN   \n",
       "40                                                NaN   \n",
       "41                                                NaN   \n",
       "42  Physica A, V. 387, Issues 2-3 (2008), Pages 38...   \n",
       "43                               ApJS 182, 310 (2009)   \n",
       "44                 J. Fluid Mech. 585, 213-244 (2007)   \n",
       "45                   J. Math. Phys. 48(2007), 092102.   \n",
       "46                                                NaN   \n",
       "47                 Class.Quant.Grav.24:S541-S550,2007   \n",
       "48                                                NaN   \n",
       "49                                                NaN   \n",
       "\n",
       "                                                title  \\\n",
       "0   Calculation of prompt diphoton production cros...   \n",
       "1            Sparsity-certifying Graph Decompositions   \n",
       "2   The evolution of the Earth-Moon system based o...   \n",
       "3   A determinant of Stirling cycle numbers counts...   \n",
       "4   From dyadic $\\Lambda_{\\alpha}$ to $\\Lambda_{\\a...   \n",
       "5   Bosonic characters of atomic Cooper pairs acro...   \n",
       "6   Polymer Quantum Mechanics and its Continuum Limit   \n",
       "7   Numerical solution of shock and ramp compressi...   \n",
       "8   The Spitzer c2d Survey of Large, Nearby, Inste...   \n",
       "9   Partial cubes: structures, characterizations, ...   \n",
       "10  Computing genus 2 Hilbert-Siegel modular forms...   \n",
       "11  Distribution of integral Fourier Coefficients ...   \n",
       "12  $p$-adic Limit of Weakly Holomorphic Modular F...   \n",
       "13             Iterated integral and the loop product   \n",
       "14  Fermionic superstring loop amplitudes in the p...   \n",
       "15                 Lifetime of doubly charmed baryons   \n",
       "16  Spectroscopic Observations of the Intermediate...   \n",
       "17    In quest of a generalized Callias index theorem   \n",
       "18  Approximation for extinction probability of th...   \n",
       "19  Measurement of the Hadronic Form Factor in D0 ...   \n",
       "20  Molecular Synchronization Waves in Arrays of A...   \n",
       "21                   Stochastic Lie group integrators   \n",
       "22  ALMA as the ideal probe of the solar chromosphere   \n",
       "23  Formation of quasi-solitons in transverse conf...   \n",
       "24  Spectroscopic Properties of Polarons in Strong...   \n",
       "25  Placeholder Substructures II: Meta-Fractals, M...   \n",
       "26  Filling-Factor-Dependent Magnetophonon Resonan...   \n",
       "27  Pfaffians, hafnians and products of real linea...   \n",
       "28  Understanding the Flavor Symmetry Breaking and...   \n",
       "29  Tuning correlation effects with electron-phono...   \n",
       "30  Crystal channeling of LHC forward protons with...   \n",
       "31  Probing non-standard neutrino interactions wit...   \n",
       "32  Convergence of the discrete dipole approximati...   \n",
       "33  Origin of adaptive mutants: a quantum measurem...   \n",
       "34  Convergence of the discrete dipole approximati...   \n",
       "35  A remark on the number of steady states in a m...   \n",
       "36  The discrete dipole approximation for simulati...   \n",
       "37  The discrete dipole approximation: an overview...   \n",
       "38  Scalar radius of the pion and zeros in the for...   \n",
       "39  Multilinear function series in conditionally f...   \n",
       "40  Quantum Group of Isometries in Classical and N...   \n",
       "41  General System theory, Like-Quantum Semantics ...   \n",
       "42  Nonequilibrium entropy limiters in lattice Bol...   \n",
       "43  Astrophysical gyrokinetics: kinetic and fluid ...   \n",
       "44  Evolution of solitary waves and undular bores ...   \n",
       "45  A limit relation for entropy and channel capac...   \n",
       "46  Intelligent location of simultaneously active ...   \n",
       "47  Inference on white dwarf binary systems using ...   \n",
       "48  An algorithm for the classification of smooth ...   \n",
       "49  Intelligent location of simultaneously active ...   \n",
       "\n",
       "                                             Abstract  \\\n",
       "0     A fully differential calculation in perturba...   \n",
       "1     We describe a new algorithm, the $(k,\\ell)$-...   \n",
       "2     The evolution of Earth-Moon system is descri...   \n",
       "3     We show that a determinant of Stirling cycle...   \n",
       "4     In this paper we show how to compute the $\\L...   \n",
       "5     We study the two-particle wave function of p...   \n",
       "6     A rather non-standard quantum representation...   \n",
       "7     A general formulation was developed to repre...   \n",
       "8     We discuss the results from the combined IRA...   \n",
       "9     Partial cubes are isometric subgraphs of hyp...   \n",
       "10    In this paper we present an algorithm for co...   \n",
       "11    Recently, Bruinier and Ono classified cusp f...   \n",
       "12    Serre obtained the p-adic limit of the integ...   \n",
       "13    In this article we discuss a relation betwee...   \n",
       "14    The pure spinor formulation of the ten-dimen...   \n",
       "15    In this work, we evaluate the lifetimes of t...   \n",
       "16    Results from spectroscopic observations of t...   \n",
       "17    We give a prescription for how to compute th...   \n",
       "18    In this note we give a new method for gettin...   \n",
       "19    The shape of the hadronic form factor f+(q2)...   \n",
       "20    Spatiotemporal pattern formation in a produc...   \n",
       "21    We present Lie group integrators for nonline...   \n",
       "22    The very nature of the solar chromosphere, i...   \n",
       "23    The formation of quasi-2D spin-wave waveform...   \n",
       "24    We present recent advances in understanding ...   \n",
       "25    Zero-divisors (ZDs) derived by Cayley-Dickso...   \n",
       "26    We describe a peculiar fine structure acquir...   \n",
       "27    We prove pfaffian and hafnian versions of Li...   \n",
       "28    In $\\XQM$, a quark can emit Goldstone bosons...   \n",
       "29    We investigate the effect of tuning the phon...   \n",
       "30    We show that crystal can trap a broad (x, x'...   \n",
       "31    We analyze the possibility of probing non-st...   \n",
       "32    We performed a rigorous theoretical converge...   \n",
       "33    This is a supplement to the paper arXiv:q-bi...   \n",
       "34    We propose an extrapolation technique that a...   \n",
       "35    The multisite phosphorylation-dephosphorylat...   \n",
       "36    In this manuscript we investigate the capabi...   \n",
       "37    We present a review of the discrete dipole a...   \n",
       "38    The quadratic pion scalar radius, \\la r^2\\ra...   \n",
       "39    As in the cases of freeness and monotonic in...   \n",
       "40    We formulate a quantum generalization of the...   \n",
       "41    It is outlined the possibility to extend the...   \n",
       "42    We construct a system of nonequilibrium entr...   \n",
       "43    We present a theoretical framework for plasm...   \n",
       "44    This paper considers the propagation of shal...   \n",
       "45    In a quantum mechanical model, Diosi, Feldma...   \n",
       "46    The intelligent acoustic emission locator is...   \n",
       "47    We report on the analysis of selected single...   \n",
       "48    We present an algorithm that produces the cl...   \n",
       "49    Part I describes an intelligent acoustic emi...   \n",
       "\n",
       "                                           Categories  \n",
       "0                 High Energy Physics - Phenomenology  \n",
       "1                         Mathematics - Combinatorics  \n",
       "2                           Physics - General Physics  \n",
       "3                         Mathematics - Combinatorics  \n",
       "4           Mathematics - Classical Analysis and ODEs  \n",
       "5   Condensed Matter - Mesoscale and Nanoscale Phy...  \n",
       "6            General Relativity and Quantum Cosmology  \n",
       "7                Condensed Matter - Materials Science  \n",
       "8                                        Astrophysics  \n",
       "9                         Mathematics - Combinatorics  \n",
       "10                        Mathematics - Number Theory  \n",
       "11                        Mathematics - Number Theory  \n",
       "12                        Mathematics - Number Theory  \n",
       "13          Mathematics - Classical Analysis and ODEs  \n",
       "14                       High Energy Physics - Theory  \n",
       "15                High Energy Physics - Phenomenology  \n",
       "16                                       Astrophysics  \n",
       "17                       High Energy Physics - Theory  \n",
       "18                          Mathematics - Probability  \n",
       "19                   High Energy Physics - Experiment  \n",
       "20  Nonlinear Sciences - Pattern Formation and Sol...  \n",
       "21                   Mathematics - Numerical Analysis  \n",
       "22                                       Astrophysics  \n",
       "23  Nonlinear Sciences - Pattern Formation and Sol...  \n",
       "24   Condensed Matter - Strongly Correlated Electrons  \n",
       "25                   Mathematics - Rings and Algebras  \n",
       "26  Condensed Matter - Mesoscale and Nanoscale Phy...  \n",
       "27          Mathematics - Classical Analysis and ODEs  \n",
       "28                High Energy Physics - Phenomenology  \n",
       "29   Condensed Matter - Strongly Correlated Electrons  \n",
       "30                High Energy Physics - Phenomenology  \n",
       "31                High Energy Physics - Phenomenology  \n",
       "32                                   Physics - Optics  \n",
       "33   Quantitative Biology - Populations and Evolution  \n",
       "34                                   Physics - Optics  \n",
       "35        Quantitative Biology - Quantitative Methods  \n",
       "36                                   Physics - Optics  \n",
       "37                                   Physics - Optics  \n",
       "38                High Energy Physics - Phenomenology  \n",
       "39                    Mathematics - Operator Algebras  \n",
       "40                      Mathematics - Quantum Algebra  \n",
       "41                          Physics - General Physics  \n",
       "42           Condensed Matter - Statistical Mechanics  \n",
       "43                                       Astrophysics  \n",
       "44  Nonlinear Sciences - Pattern Formation and Sol...  \n",
       "45                                    Quantum Physics  \n",
       "46  Computer Science - Neural and Evolutionary Com...  \n",
       "47           General Relativity and Quantum Cosmology  \n",
       "48                        Mathematics - Combinatorics  \n",
       "49  Computer Science - Neural and Evolutionary Com...  "
      ]
     },
     "execution_count": 94,
     "metadata": {},
     "output_type": "execute_result"
    }
   ],
   "source": [
    "df"
   ]
  },
  {
   "cell_type": "code",
   "execution_count": 86,
   "metadata": {},
   "outputs": [],
   "source": [
    "import pandas as pd\n",
    "\n",
    "\n",
    "df = pd.DataFrame(columns=['DOI', 'Journal', 'title','Abstract','Categories']) \n",
    "\n"
   ]
  },
  {
   "cell_type": "code",
   "execution_count": 88,
   "metadata": {},
   "outputs": [
    {
     "ename": "TypeError",
     "evalue": "append() got an unexpected keyword argument 'index'",
     "output_type": "error",
     "traceback": [
      "\u001b[1;31m---------------------------------------------------------------------------\u001b[0m",
      "\u001b[1;31mTypeError\u001b[0m                                 Traceback (most recent call last)",
      "\u001b[1;32m<ipython-input-88-c2e176e9cec1>\u001b[0m in \u001b[0;36m<module>\u001b[1;34m()\u001b[0m\n\u001b[1;32m----> 1\u001b[1;33m \u001b[0mdf\u001b[0m\u001b[1;33m.\u001b[0m\u001b[0mappend\u001b[0m\u001b[1;33m(\u001b[0m\u001b[1;33m[\u001b[0m\u001b[1;34m'a'\u001b[0m\u001b[1;33m,\u001b[0m\u001b[1;34m's'\u001b[0m\u001b[1;33m,\u001b[0m\u001b[1;34m't'\u001b[0m\u001b[1;33m,\u001b[0m\u001b[1;34m'as'\u001b[0m\u001b[1;33m,\u001b[0m\u001b[1;34m'fd'\u001b[0m\u001b[1;33m]\u001b[0m\u001b[1;33m,\u001b[0m\u001b[0mindex\u001b[0m\u001b[1;33m=\u001b[0m\u001b[1;36m0\u001b[0m\u001b[1;33m)\u001b[0m\u001b[1;33m\u001b[0m\u001b[0m\n\u001b[0m",
      "\u001b[1;31mTypeError\u001b[0m: append() got an unexpected keyword argument 'index'"
     ]
    }
   ],
   "source": [
    "df.append(['a','s','t','as','fd'],index=0)"
   ]
  },
  {
   "cell_type": "code",
   "execution_count": 35,
   "metadata": {},
   "outputs": [],
   "source": [
    "import bs4 as bs\n",
    "\n",
    "soup = bs.BeautifulSoup(open(file), \"lxml-xml\")"
   ]
  },
  {
   "cell_type": "code",
   "execution_count": 36,
   "metadata": {},
   "outputs": [
    {
     "ename": "TypeError",
     "evalue": "'dict' object is not callable",
     "output_type": "error",
     "traceback": [
      "\u001b[1;31m---------------------------------------------------------------------------\u001b[0m",
      "\u001b[1;31mTypeError\u001b[0m                                 Traceback (most recent call last)",
      "\u001b[1;32m<ipython-input-36-de525a637771>\u001b[0m in \u001b[0;36m<module>\u001b[1;34m()\u001b[0m\n\u001b[1;32m----> 1\u001b[1;33m \u001b[0msoup\u001b[0m\u001b[1;33m.\u001b[0m\u001b[0mattrs\u001b[0m\u001b[1;33m(\u001b[0m\u001b[1;33m)\u001b[0m\u001b[1;33m\u001b[0m\u001b[0m\n\u001b[0m",
      "\u001b[1;31mTypeError\u001b[0m: 'dict' object is not callable"
     ]
    }
   ],
   "source": [
    "soup.attrs()"
   ]
  },
  {
   "cell_type": "code",
   "execution_count": 37,
   "metadata": {},
   "outputs": [
    {
     "data": {
      "text/plain": [
       "'\\nCalculation of prompt diphoton production cross sections at Tevatron and\\n  LHC energies\\nBalázs, C.\\nBerger, E. L.\\nNadolsky, P. M.\\nYuan, C. -P.\\nHigh Energy Physics - Phenomenology\\n  A fully differential calculation in perturbative quantum chromodynamics is\\npresented for the production of massive photon pairs at hadron colliders. All\\nnext-to-leading order perturbative contributions from quark-antiquark,\\ngluon-(anti)quark, and gluon-gluon subprocesses are included, as well as\\nall-orders resummation of initial-state gluon radiation valid at\\nnext-to-next-to-leading logarithmic accuracy. The region of phase space is\\nspecified in which the calculation is most reliable. Good agreement is\\ndemonstrated with data from the Fermilab Tevatron, and predictions are made for\\nmore detailed tests with CDF and DO data. Predictions are shown for\\ndistributions of diphoton pairs produced at the energy of the Large Hadron\\nCollider (LHC). Distributions of the diphoton pairs from the decay of a Higgs\\nboson are contrasted with those produced from QCD processes at the LHC, showing\\nthat enhanced sensitivity to the signal can be obtained with judicious\\nselection of events.\\n\\nComment: 37 pages, 15 figures; published version\\n2007-04-02\\n2007-07-24\\ntext\\nhttp://arxiv.org/abs/0704.0001\\nPhys.Rev.D76:013009,2007\\ndoi:10.1103/PhysRevD.76.013009\\n'"
      ]
     },
     "execution_count": 37,
     "metadata": {},
     "output_type": "execute_result"
    }
   ],
   "source": [
    "soup.get_text()"
   ]
  },
  {
   "cell_type": "code",
   "execution_count": 72,
   "metadata": {},
   "outputs": [
    {
     "data": {
      "text/plain": [
       "['10.1103/PhysRevD.76.013009',\n",
       " 'Calculation of prompt diphoton production cross sections at Tevatron and\\n  LHC energies',\n",
       " '  A fully differential calculation in perturbative quantum chromodynamics is\\npresented for the production of massive photon pairs at hadron colliders. All\\nnext-to-leading order perturbative contributions from quark-antiquark,\\ngluon-(anti)quark, and gluon-gluon subprocesses are included, as well as\\nall-orders resummation of initial-state gluon radiation valid at\\nnext-to-next-to-leading logarithmic accuracy. The region of phase space is\\nspecified in which the calculation is most reliable. Good agreement is\\ndemonstrated with data from the Fermilab Tevatron, and predictions are made for\\nmore detailed tests with CDF and DO data. Predictions are shown for\\ndistributions of diphoton pairs produced at the energy of the Large Hadron\\nCollider (LHC). Distributions of the diphoton pairs from the decay of a Higgs\\nboson are contrasted with those produced from QCD processes at the LHC, showing\\nthat enhanced sensitivity to the signal can be obtained with judicious\\nselection of events.\\n',\n",
       " 'High Energy Physics - Phenomenology']"
      ]
     },
     "execution_count": 72,
     "metadata": {},
     "output_type": "execute_result"
    }
   ],
   "source": [
    "fields_of_interest(soup)"
   ]
  },
  {
   "cell_type": "code",
   "execution_count": null,
   "metadata": {},
   "outputs": [],
   "source": [
    "soup.find_all('dc:identifier')"
   ]
  },
  {
   "cell_type": "code",
   "execution_count": 60,
   "metadata": {},
   "outputs": [
    {
     "data": {
      "text/plain": [
       "'10.1103/PhysRevD.76.013009'"
      ]
     },
     "execution_count": 60,
     "metadata": {},
     "output_type": "execute_result"
    }
   ],
   "source": [
    "DOI_extract(soup.find_all('dc:identifier'))"
   ]
  },
  {
   "cell_type": "code",
   "execution_count": 55,
   "metadata": {},
   "outputs": [
    {
     "data": {
      "text/plain": [
       "'Calculation of prompt diphoton production cross sections at Tevatron and\\n  LHC energies'"
      ]
     },
     "execution_count": 55,
     "metadata": {},
     "output_type": "execute_result"
    }
   ],
   "source": [
    " soup.find_all('dc:title')[0].text"
   ]
  },
  {
   "cell_type": "code",
   "execution_count": 56,
   "metadata": {},
   "outputs": [
    {
     "data": {
      "text/plain": [
       "'  A fully differential calculation in perturbative quantum chromodynamics is\\npresented for the production of massive photon pairs at hadron colliders. All\\nnext-to-leading order perturbative contributions from quark-antiquark,\\ngluon-(anti)quark, and gluon-gluon subprocesses are included, as well as\\nall-orders resummation of initial-state gluon radiation valid at\\nnext-to-next-to-leading logarithmic accuracy. The region of phase space is\\nspecified in which the calculation is most reliable. Good agreement is\\ndemonstrated with data from the Fermilab Tevatron, and predictions are made for\\nmore detailed tests with CDF and DO data. Predictions are shown for\\ndistributions of diphoton pairs produced at the energy of the Large Hadron\\nCollider (LHC). Distributions of the diphoton pairs from the decay of a Higgs\\nboson are contrasted with those produced from QCD processes at the LHC, showing\\nthat enhanced sensitivity to the signal can be obtained with judicious\\nselection of events.\\n'"
      ]
     },
     "execution_count": 56,
     "metadata": {},
     "output_type": "execute_result"
    }
   ],
   "source": [
    " soup.find_all('dc:description')[0].text"
   ]
  },
  {
   "cell_type": "code",
   "execution_count": 38,
   "metadata": {},
   "outputs": [
    {
     "data": {
      "text/plain": [
       "[<dc:identifier>http://arxiv.org/abs/0704.0001</dc:identifier>,\n",
       " <dc:identifier>Phys.Rev.D76:013009,2007</dc:identifier>,\n",
       " <dc:identifier>doi:10.1103/PhysRevD.76.013009</dc:identifier>]"
      ]
     },
     "execution_count": 38,
     "metadata": {},
     "output_type": "execute_result"
    }
   ],
   "source": [
    " soup.find_all('dc:identifier')"
   ]
  },
  {
   "cell_type": "code",
   "execution_count": null,
   "metadata": {},
   "outputs": [],
   "source": [
    "if "
   ]
  },
  {
   "cell_type": "code",
   "execution_count": 68,
   "metadata": {},
   "outputs": [
    {
     "data": {
      "text/plain": [
       "'High Energy Physics - Phenomenology'"
      ]
     },
     "execution_count": 68,
     "metadata": {},
     "output_type": "execute_result"
    }
   ],
   "source": [
    "soup.find_all('dc:subject')[0].text"
   ]
  },
  {
   "cell_type": "code",
   "execution_count": 45,
   "metadata": {},
   "outputs": [],
   "source": [
    "import re"
   ]
  },
  {
   "cell_type": "code",
   "execution_count": 46,
   "metadata": {},
   "outputs": [],
   "source": [
    "example = 'doi:10.1103/PhysRevD.76.013009'\n",
    "\n"
   ]
  },
  {
   "cell_type": "code",
   "execution_count": 48,
   "metadata": {},
   "outputs": [
    {
     "data": {
      "text/plain": [
       "'doi:'"
      ]
     },
     "execution_count": 48,
     "metadata": {},
     "output_type": "execute_result"
    }
   ],
   "source": [
    "match = re.search(r'doi:', example)\n",
    "match.group()"
   ]
  },
  {
   "cell_type": "code",
   "execution_count": null,
   "metadata": {},
   "outputs": [],
   "source": [
    "from requests.exceptions import ConnectionError\n",
    "import requests\n",
    "\n",
    "def download_pdf(url):\n",
    "    \n",
    "    try:\n",
    "        response = requests.get(url)\n",
    "    except ConnectionError:\n",
    "        print 'Failed to open url.'\n",
    "        return\n",
    "    response = requests.get(url, stream=True)\n",
    "    path = 'tmp/'+ url.split('/')[-1]\n",
    "    with open(path, 'wb') as f:\n",
    "        f.write(response.content)\n",
    "        return"
   ]
  },
  {
   "cell_type": "code",
   "execution_count": 18,
   "metadata": {},
   "outputs": [],
   "source": [
    "import requests\n",
    "url = 'https://arxiv.org/pdf/0704.0001.pdf'\n",
    "# url = 'http://arxiv.org/abs/0704.0001'\n",
    "response = requests.get(url, stream=True)\n",
    "\n",
    "with open('tmp/metadata.pdf', 'wb') as f:\n",
    "    f.write(response.content)"
   ]
  },
  {
   "cell_type": "code",
   "execution_count": 50,
   "metadata": {},
   "outputs": [
    {
     "data": {
      "text/plain": [
       "'0704.0001.pdf'"
      ]
     },
     "execution_count": 50,
     "metadata": {},
     "output_type": "execute_result"
    }
   ],
   "source": [
    "url = 'https://arxiv.org/pdf/0704.0001.pdf'\n",
    "url.split('/')[-1]"
   ]
  },
  {
   "cell_type": "code",
   "execution_count": 33,
   "metadata": {},
   "outputs": [
    {
     "name": "stdout",
     "output_type": "stream",
     "text": [
      "['arxiv.org', 'abs', '0704.0001']\n"
     ]
    }
   ],
   "source": [
    "url = 'http://arxiv.org/abs/0704.0001'\n",
    "a = url[7:].split('/')\n",
    "print(a)"
   ]
  },
  {
   "cell_type": "code",
   "execution_count": 41,
   "metadata": {},
   "outputs": [
    {
     "name": "stdout",
     "output_type": "stream",
     "text": [
      "http://arxiv.org/pdf/0704.0001.pdf\n"
     ]
    }
   ],
   "source": [
    "temp = ''\n",
    "for i in url[7:].split('/'):\n",
    "    if i =='abs':\n",
    "        temp+='/'+'pdf'\n",
    "        continue\n",
    "    temp+='/'+i\n",
    "temp+='.pdf'\n",
    "print(url[:6]+temp)"
   ]
  },
  {
   "cell_type": "code",
   "execution_count": 40,
   "metadata": {},
   "outputs": [
    {
     "data": {
      "text/plain": [
       "'http://arxiv.org/pdf/0704.0001.pdf'"
      ]
     },
     "execution_count": 40,
     "metadata": {},
     "output_type": "execute_result"
    }
   ],
   "source": [
    "url[:6]+temp"
   ]
  },
  {
   "cell_type": "code",
   "execution_count": 42,
   "metadata": {},
   "outputs": [
    {
     "data": {
      "text/plain": [
       "'http://arxiv.org/pdf/0704.0001.pdf'"
      ]
     },
     "execution_count": 42,
     "metadata": {},
     "output_type": "execute_result"
    }
   ],
   "source": [
    "def createUrl(url):\n",
    "    temp = ''\n",
    "    for i in url[7:].split('/'):\n",
    "        if i =='abs':\n",
    "            temp+='/'+'pdf'\n",
    "            continue\n",
    "        temp+='/'+i\n",
    "    temp+='.pdf'\n",
    "    return url[:6]+temp\n",
    "createUrl(url)    "
   ]
  },
  {
   "cell_type": "code",
   "execution_count": null,
   "metadata": {},
   "outputs": [],
   "source": [
    "url.split('/')[-1]"
   ]
  }
 ],
 "metadata": {
  "kernelspec": {
   "display_name": "Python [conda env:Sklearn]",
   "language": "python",
   "name": "conda-env-Sklearn-py"
  },
  "language_info": {
   "codemirror_mode": {
    "name": "ipython",
    "version": 3
   },
   "file_extension": ".py",
   "mimetype": "text/x-python",
   "name": "python",
   "nbconvert_exporter": "python",
   "pygments_lexer": "ipython3",
   "version": "3.5.5"
  }
 },
 "nbformat": 4,
 "nbformat_minor": 2
}
